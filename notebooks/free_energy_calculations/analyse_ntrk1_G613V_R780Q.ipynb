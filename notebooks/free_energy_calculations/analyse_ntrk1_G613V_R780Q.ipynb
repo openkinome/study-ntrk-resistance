{
 "cells": [
  {
   "cell_type": "code",
   "execution_count": 1,
   "metadata": {},
   "outputs": [],
   "source": [
    "from perses.analysis.analysis import Analysis\n",
    "import numpy as np\n",
    "import seaborn as sns\n",
    "import matplotlib.pyplot as plt\n",
    "import pymbar\n",
    "%matplotlib inline\n",
    "import os\n",
    "import itertools\n",
    "from tqdm import notebook as tqdm_notebook\n",
    "import pandas as pd\n",
    "\n",
    "\n",
    "from simtk.openmm import unit\n",
    "from openmmtools.constants import kB\n",
    "KT_KCALMOL = kB * 300 * unit.kelvin / unit.kilocalories_per_mole"
   ]
  },
  {
   "cell_type": "code",
   "execution_count": 2,
   "metadata": {},
   "outputs": [],
   "source": [
    "def subtract_offset(forward_work, reverse_work):\n",
    "\n",
    "    print(\"--> subtracting offset\")\n",
    "    \n",
    "    forward_work_offset = []\n",
    "    for cycle in forward_work:\n",
    "        forward_work_offset.append(np.array([val - cycle[0] for val in cycle[1:]]))\n",
    "    forward_work_offset = np.array(forward_work_offset)\n",
    "\n",
    "    reverse_work_offset = []\n",
    "    for cycle in reverse_work:\n",
    "        reverse_work_offset.append(np.array([val - cycle[0] for val in cycle[1:]]))\n",
    "    reverse_work_offset = np.array(reverse_work_offset)\n",
    "    \n",
    "    return forward_work_offset, reverse_work_offset\n",
    "\n",
    "\n",
    "def analyse(forward_accumulated, reverse_accumulated):\n",
    "    \n",
    "    print(\"--> computing dg, ddg\")\n",
    "    dg, ddg = pymbar.bar.BAR(forward_accumulated, reverse_accumulated)\n",
    "    \n",
    "    return dg, ddg\n",
    "\n",
    "\n",
    "def plot_works(forward_work_offset,\n",
    "               reverse_work_offset,\n",
    "               dg,\n",
    "               ddg,\n",
    "               phase,\n",
    "               mutation,\n",
    "               title,\n",
    "               save=False,\n",
    "               output_dir=None):\n",
    "    \n",
    "    CB_color_cycle = ['#377eb8', '#ff7f00', '#4daf4a',\n",
    "                  '#f781bf', '#a65628', '#984ea3',\n",
    "                  '#999999', '#e41a1c', '#dede00']\n",
    "    \n",
    "    # Plot work trajectories\n",
    "    # TODO: automatically determine the x axis -> this is a bit of a hack at the moment\n",
    "    print(\"--> plotting work trajs\")\n",
    "    \n",
    "    for i, cycle in enumerate(forward_work_offset):\n",
    "        \n",
    "        x = [(j+1)*12.1e-4 for j in range(len(list(cycle)))]\n",
    "        y = cycle\n",
    "        if i==0:\n",
    "            plt.plot(x, y, color=CB_color_cycle[0], label='forward')\n",
    "        else:\n",
    "            plt.plot(x, y, color=CB_color_cycle[0])\n",
    "        \n",
    "    for i, cycle in enumerate(reverse_work_offset):\n",
    "        \n",
    "        x = [(j+1)*12.1e-4 for j in range(len(list(cycle)))]\n",
    "        y = -cycle\n",
    "        if i==0:\n",
    "            plt.plot(x, y, color=CB_color_cycle[1], label='reverse')\n",
    "        else:\n",
    "            plt.plot(x, y, color=CB_color_cycle[1])\n",
    "        \n",
    "    plt.xlabel(\"$t_{neq}$ (ns)\")\n",
    "    plt.ylabel(\"work (kT)\")\n",
    "    plt.title(f\"{title} {phase}\")\n",
    "    plt.legend(loc='best')\n",
    "    if save:\n",
    "        if output_dir is not None:\n",
    "            plt.savefig(os.path.join(output_dir, f\"{mutation}_{phase}_work_traj.png\"), dpi=500)\n",
    "            print(f\"--> saved to: {os.path.join(output_dir, f'{mutation}_{phase}_work_traj.png')}\")\n",
    "        else:\n",
    "            print(\"--> No output_dir specified!\")\n",
    "    else:\n",
    "        plt.show()\n",
    "    plt.clf()\n",
    "    \n",
    "    # Plot work distributions\n",
    "    print(\"--> plotting work distrib\")\n",
    "    \n",
    "    accumulated_forward = [cycle[-1] for cycle in forward_work_offset]\n",
    "    accumulated_reverse = [-cycle[-1] for cycle in reverse_work_offset]\n",
    "    sns.distplot(accumulated_forward, color=CB_color_cycle[0], label='forward')\n",
    "    sns.distplot(accumulated_reverse, color=CB_color_cycle[1], label='reverse')\n",
    "    plt.axvline(dg)\n",
    "    plt.axvline(dg + ddg, linestyle='dashed')\n",
    "    plt.axvline(dg - ddg, linestyle='dashed')\n",
    "    plt.xlabel(\"work (kT)\")\n",
    "    plt.ylabel(\"p(w)\")\n",
    "    plt.title(f\"{title} {phase}\")\n",
    "    plt.legend(loc='best')\n",
    "    if save:\n",
    "        if output_dir is not None:\n",
    "            plt.savefig(os.path.join(output_dir, f\"{mutation}_{phase}_work_dist.png\"), dpi=500)\n",
    "            print(f\"--> saved to: {os.path.join(output_dir, f'{mutation}_{phase}_work_dist.png')}\")\n",
    "        else:\n",
    "            print(\"--> No output_dir specified!\")\n",
    "    else:\n",
    "        plt.show()\n",
    "    plt.clf()"
   ]
  },
  {
   "cell_type": "code",
   "execution_count": 3,
   "metadata": {},
   "outputs": [],
   "source": [
    "# ntrk1 mutations\n",
    "ntrk1_mutations = {\n",
    "    'larotrectinib': ['G613V', 'R780Q'],\n",
    "    'entrectinib': ['G613V', 'R780Q'],\n",
    "    }"
   ]
  },
  {
   "cell_type": "code",
   "execution_count": 4,
   "metadata": {},
   "outputs": [
    {
     "output_type": "display_data",
     "data": {
      "text/plain": "HBox(children=(HTML(value=''), FloatProgress(value=0.0), HTML(value='')))",
      "application/vnd.jupyter.widget-view+json": {
       "version_major": 2,
       "version_minor": 0,
       "model_id": "cb70110d13c9429c8feebfb1fa2f4b4d"
      }
     },
     "metadata": {}
    },
    {
     "output_type": "stream",
     "name": "stdout",
     "text": [
      "\n",
      "(100, 1251)\n",
      "(100, 1251)\n",
      "--> subtracting offset\n",
      "--> computing dg, ddg\n",
      "--> subtracting offset\n",
      "--> computing dg, ddg\n",
      "--> plotting work trajs\n",
      "--> saved to: /home/glassw/GITHUB/study-ntrk-resistance/notebooks/free_energy_calculations/ntrk1_G613V_R780Q_analysis/NTRK1/larotrectinib/G613V_complex_work_traj.png\n",
      "--> plotting work distrib\n",
      "/home/glassw/miniconda/envs/perses_dev/lib/python3.7/site-packages/seaborn/distributions.py:2551: FutureWarning: `distplot` is a deprecated function and will be removed in a future version. Please adapt your code to use either `displot` (a figure-level function with similar flexibility) or `histplot` (an axes-level function for histograms).\n",
      "  warnings.warn(msg, FutureWarning)\n",
      "/home/glassw/miniconda/envs/perses_dev/lib/python3.7/site-packages/seaborn/distributions.py:2551: FutureWarning: `distplot` is a deprecated function and will be removed in a future version. Please adapt your code to use either `displot` (a figure-level function with similar flexibility) or `histplot` (an axes-level function for histograms).\n",
      "  warnings.warn(msg, FutureWarning)\n",
      "--> saved to: /home/glassw/GITHUB/study-ntrk-resistance/notebooks/free_energy_calculations/ntrk1_G613V_R780Q_analysis/NTRK1/larotrectinib/G613V_complex_work_dist.png\n",
      "--> plotting work trajs\n",
      "--> saved to: /home/glassw/GITHUB/study-ntrk-resistance/notebooks/free_energy_calculations/ntrk1_G613V_R780Q_analysis/NTRK1/larotrectinib/G613V_apo_work_traj.png\n",
      "--> plotting work distrib\n",
      "/home/glassw/miniconda/envs/perses_dev/lib/python3.7/site-packages/seaborn/distributions.py:2551: FutureWarning: `distplot` is a deprecated function and will be removed in a future version. Please adapt your code to use either `displot` (a figure-level function with similar flexibility) or `histplot` (an axes-level function for histograms).\n",
      "  warnings.warn(msg, FutureWarning)\n",
      "/home/glassw/miniconda/envs/perses_dev/lib/python3.7/site-packages/seaborn/distributions.py:2551: FutureWarning: `distplot` is a deprecated function and will be removed in a future version. Please adapt your code to use either `displot` (a figure-level function with similar flexibility) or `histplot` (an axes-level function for histograms).\n",
      "  warnings.warn(msg, FutureWarning)\n",
      "--> saved to: /home/glassw/GITHUB/study-ntrk-resistance/notebooks/free_energy_calculations/ntrk1_G613V_R780Q_analysis/NTRK1/larotrectinib/G613V_apo_work_dist.png\n",
      "--> complex_dg: 3.968279576335074\n",
      "--> apo dg: 3.988159951607645\n"
     ]
    },
    {
     "output_type": "display_data",
     "data": {
      "text/plain": "HBox(children=(HTML(value=''), FloatProgress(value=0.0), HTML(value='')))",
      "application/vnd.jupyter.widget-view+json": {
       "version_major": 2,
       "version_minor": 0,
       "model_id": "faad791183c44a0baead65e1d60b40a5"
      }
     },
     "metadata": {}
    },
    {
     "output_type": "stream",
     "name": "stdout",
     "text": [
      "\n",
      "(100, 1251)\n",
      "(100, 1251)\n",
      "--> subtracting offset\n",
      "--> computing dg, ddg\n",
      "--> subtracting offset\n",
      "--> computing dg, ddg\n",
      "--> plotting work trajs\n",
      "--> saved to: /home/glassw/GITHUB/study-ntrk-resistance/notebooks/free_energy_calculations/ntrk1_G613V_R780Q_analysis/NTRK1/larotrectinib/R780Q_complex_work_traj.png\n",
      "--> plotting work distrib\n",
      "/home/glassw/miniconda/envs/perses_dev/lib/python3.7/site-packages/seaborn/distributions.py:2551: FutureWarning: `distplot` is a deprecated function and will be removed in a future version. Please adapt your code to use either `displot` (a figure-level function with similar flexibility) or `histplot` (an axes-level function for histograms).\n",
      "  warnings.warn(msg, FutureWarning)\n",
      "/home/glassw/miniconda/envs/perses_dev/lib/python3.7/site-packages/seaborn/distributions.py:2551: FutureWarning: `distplot` is a deprecated function and will be removed in a future version. Please adapt your code to use either `displot` (a figure-level function with similar flexibility) or `histplot` (an axes-level function for histograms).\n",
      "  warnings.warn(msg, FutureWarning)\n",
      "--> saved to: /home/glassw/GITHUB/study-ntrk-resistance/notebooks/free_energy_calculations/ntrk1_G613V_R780Q_analysis/NTRK1/larotrectinib/R780Q_complex_work_dist.png\n",
      "--> plotting work trajs\n",
      "--> saved to: /home/glassw/GITHUB/study-ntrk-resistance/notebooks/free_energy_calculations/ntrk1_G613V_R780Q_analysis/NTRK1/larotrectinib/R780Q_apo_work_traj.png\n",
      "--> plotting work distrib\n",
      "/home/glassw/miniconda/envs/perses_dev/lib/python3.7/site-packages/seaborn/distributions.py:2551: FutureWarning: `distplot` is a deprecated function and will be removed in a future version. Please adapt your code to use either `displot` (a figure-level function with similar flexibility) or `histplot` (an axes-level function for histograms).\n",
      "  warnings.warn(msg, FutureWarning)\n",
      "/home/glassw/miniconda/envs/perses_dev/lib/python3.7/site-packages/seaborn/distributions.py:2551: FutureWarning: `distplot` is a deprecated function and will be removed in a future version. Please adapt your code to use either `displot` (a figure-level function with similar flexibility) or `histplot` (an axes-level function for histograms).\n",
      "  warnings.warn(msg, FutureWarning)\n",
      "--> saved to: /home/glassw/GITHUB/study-ntrk-resistance/notebooks/free_energy_calculations/ntrk1_G613V_R780Q_analysis/NTRK1/larotrectinib/R780Q_apo_work_dist.png\n",
      "--> complex_dg: 181.99052192691738\n",
      "--> apo dg: 182.55722932595708\n"
     ]
    },
    {
     "output_type": "display_data",
     "data": {
      "text/plain": "HBox(children=(HTML(value=''), FloatProgress(value=0.0), HTML(value='')))",
      "application/vnd.jupyter.widget-view+json": {
       "version_major": 2,
       "version_minor": 0,
       "model_id": "85bc68875a31416e8832231b89fd470c"
      }
     },
     "metadata": {}
    },
    {
     "output_type": "stream",
     "name": "stdout",
     "text": [
      "\n",
      "(100, 1251)\n",
      "(97, 1251)\n",
      "--> subtracting offset\n",
      "--> computing dg, ddg\n",
      "--> subtracting offset\n",
      "--> computing dg, ddg\n",
      "--> plotting work trajs\n",
      "--> saved to: /home/glassw/GITHUB/study-ntrk-resistance/notebooks/free_energy_calculations/ntrk1_G613V_R780Q_analysis/NTRK1/entrectinib/G613V_complex_work_traj.png\n",
      "--> plotting work distrib\n",
      "/home/glassw/miniconda/envs/perses_dev/lib/python3.7/site-packages/seaborn/distributions.py:2551: FutureWarning: `distplot` is a deprecated function and will be removed in a future version. Please adapt your code to use either `displot` (a figure-level function with similar flexibility) or `histplot` (an axes-level function for histograms).\n",
      "  warnings.warn(msg, FutureWarning)\n",
      "/home/glassw/miniconda/envs/perses_dev/lib/python3.7/site-packages/seaborn/distributions.py:2551: FutureWarning: `distplot` is a deprecated function and will be removed in a future version. Please adapt your code to use either `displot` (a figure-level function with similar flexibility) or `histplot` (an axes-level function for histograms).\n",
      "  warnings.warn(msg, FutureWarning)\n",
      "--> saved to: /home/glassw/GITHUB/study-ntrk-resistance/notebooks/free_energy_calculations/ntrk1_G613V_R780Q_analysis/NTRK1/entrectinib/G613V_complex_work_dist.png\n",
      "--> plotting work trajs\n",
      "--> saved to: /home/glassw/GITHUB/study-ntrk-resistance/notebooks/free_energy_calculations/ntrk1_G613V_R780Q_analysis/NTRK1/entrectinib/G613V_apo_work_traj.png\n",
      "--> plotting work distrib\n",
      "/home/glassw/miniconda/envs/perses_dev/lib/python3.7/site-packages/seaborn/distributions.py:2551: FutureWarning: `distplot` is a deprecated function and will be removed in a future version. Please adapt your code to use either `displot` (a figure-level function with similar flexibility) or `histplot` (an axes-level function for histograms).\n",
      "  warnings.warn(msg, FutureWarning)\n",
      "/home/glassw/miniconda/envs/perses_dev/lib/python3.7/site-packages/seaborn/distributions.py:2551: FutureWarning: `distplot` is a deprecated function and will be removed in a future version. Please adapt your code to use either `displot` (a figure-level function with similar flexibility) or `histplot` (an axes-level function for histograms).\n",
      "  warnings.warn(msg, FutureWarning)\n",
      "--> saved to: /home/glassw/GITHUB/study-ntrk-resistance/notebooks/free_energy_calculations/ntrk1_G613V_R780Q_analysis/NTRK1/entrectinib/G613V_apo_work_dist.png\n",
      "--> complex_dg: -3.447700614218657\n",
      "--> apo dg: -1.9070631676187133\n"
     ]
    },
    {
     "output_type": "display_data",
     "data": {
      "text/plain": "HBox(children=(HTML(value=''), FloatProgress(value=0.0), HTML(value='')))",
      "application/vnd.jupyter.widget-view+json": {
       "version_major": 2,
       "version_minor": 0,
       "model_id": "1507156e50a04aeb9682660e12b80f78"
      }
     },
     "metadata": {}
    },
    {
     "output_type": "stream",
     "name": "stdout",
     "text": [
      "\n",
      "(100, 1251)\n",
      "(100, 1251)\n",
      "--> subtracting offset\n",
      "--> computing dg, ddg\n",
      "--> subtracting offset\n",
      "--> computing dg, ddg\n",
      "--> plotting work trajs\n",
      "--> saved to: /home/glassw/GITHUB/study-ntrk-resistance/notebooks/free_energy_calculations/ntrk1_G613V_R780Q_analysis/NTRK1/entrectinib/R780Q_complex_work_traj.png\n",
      "--> plotting work distrib\n",
      "/home/glassw/miniconda/envs/perses_dev/lib/python3.7/site-packages/seaborn/distributions.py:2551: FutureWarning: `distplot` is a deprecated function and will be removed in a future version. Please adapt your code to use either `displot` (a figure-level function with similar flexibility) or `histplot` (an axes-level function for histograms).\n",
      "  warnings.warn(msg, FutureWarning)\n",
      "/home/glassw/miniconda/envs/perses_dev/lib/python3.7/site-packages/seaborn/distributions.py:2551: FutureWarning: `distplot` is a deprecated function and will be removed in a future version. Please adapt your code to use either `displot` (a figure-level function with similar flexibility) or `histplot` (an axes-level function for histograms).\n",
      "  warnings.warn(msg, FutureWarning)\n",
      "--> saved to: /home/glassw/GITHUB/study-ntrk-resistance/notebooks/free_energy_calculations/ntrk1_G613V_R780Q_analysis/NTRK1/entrectinib/R780Q_complex_work_dist.png\n",
      "--> plotting work trajs\n",
      "--> saved to: /home/glassw/GITHUB/study-ntrk-resistance/notebooks/free_energy_calculations/ntrk1_G613V_R780Q_analysis/NTRK1/entrectinib/R780Q_apo_work_traj.png\n",
      "--> plotting work distrib\n",
      "/home/glassw/miniconda/envs/perses_dev/lib/python3.7/site-packages/seaborn/distributions.py:2551: FutureWarning: `distplot` is a deprecated function and will be removed in a future version. Please adapt your code to use either `displot` (a figure-level function with similar flexibility) or `histplot` (an axes-level function for histograms).\n",
      "  warnings.warn(msg, FutureWarning)\n",
      "/home/glassw/miniconda/envs/perses_dev/lib/python3.7/site-packages/seaborn/distributions.py:2551: FutureWarning: `distplot` is a deprecated function and will be removed in a future version. Please adapt your code to use either `displot` (a figure-level function with similar flexibility) or `histplot` (an axes-level function for histograms).\n",
      "  warnings.warn(msg, FutureWarning)\n",
      "--> saved to: /home/glassw/GITHUB/study-ntrk-resistance/notebooks/free_energy_calculations/ntrk1_G613V_R780Q_analysis/NTRK1/entrectinib/R780Q_apo_work_dist.png\n",
      "--> complex_dg: 182.66244970364653\n",
      "--> apo dg: 182.95941829989928\n"
     ]
    },
    {
     "output_type": "display_data",
     "data": {
      "text/plain": "<Figure size 432x288 with 0 Axes>"
     },
     "metadata": {}
    }
   ],
   "source": [
    "base_data_path = '/data/chodera/glassw/miame/bayer_mutations_2021_06_17/1_run_neq/ntrk1/'\n",
    "base_output_dir = '/home/glassw/GITHUB/study-ntrk-resistance/notebooks/free_energy_calculations/ntrk1_G613V_R780Q_analysis/'\n",
    "ntrk = 'NTRK1'\n",
    "\n",
    "ntrk1_df = {\n",
    "    'larotrectinib': {},\n",
    "    'entrectinib': {},\n",
    "    }\n",
    "\n",
    "for tki in ntrk1_mutations:\n",
    "\n",
    "    for mutation in ntrk1_mutations[tki]:\n",
    "\n",
    "        # Load and combine arrays\n",
    "        forward_complex_arrays = []\n",
    "        reverse_complex_arrays = []\n",
    "        forward_apo_arrays = []\n",
    "        reverse_apo_arrays = []\n",
    "\n",
    "        for j in tqdm_notebook.tqdm(range(100)):\n",
    "\n",
    "            forward_complex_path = f'{base_data_path}{mutation}/NTRK1_{tki}_{mutation}_complex_{j}_forward.npy'\n",
    "            reverse_complex_path = f'{base_data_path}{mutation}/NTRK1_{tki}_{mutation}_complex_{j}_reverse.npy'\n",
    "            forward_apo_path = f'{base_data_path}{mutation}/NTRK1_{tki}_{mutation}_apo_{j}_forward.npy'\n",
    "            reverse_apo_path = f'{base_data_path}{mutation}/NTRK1_{tki}_{mutation}_apo_{j}_reverse.npy'\n",
    "\n",
    "            if os.path.exists(forward_complex_path):\n",
    "                with open(forward_complex_path, 'rb') as f:\n",
    "                    forward_complex_arrays.append(np.load(f))\n",
    "\n",
    "            if os.path.exists(reverse_complex_path):\n",
    "                with open(reverse_complex_path, 'rb') as f:\n",
    "                    reverse_complex_arrays.append(np.load(f))\n",
    "\n",
    "            if os.path.exists(forward_apo_path):\n",
    "                with open(forward_apo_path, 'rb') as f:\n",
    "                    forward_apo_arrays.append(np.load(f))\n",
    "\n",
    "            if os.path.exists(reverse_apo_path):\n",
    "                with open(reverse_apo_path, 'rb') as f:\n",
    "                    reverse_apo_arrays.append(np.load(f))\n",
    "\n",
    "        if forward_complex_arrays and reverse_complex_arrays and forward_apo_arrays and reverse_apo_arrays:\n",
    "\n",
    "            forward_complex_combined = np.concatenate(forward_complex_arrays)\n",
    "            forward_complex_accumulated = np.array([cycle[-1] - cycle[0] for cycle in forward_complex_combined]) # compute this separately bc the last value of the subsampled array is diff than the actual last sample\n",
    "            forward_complex_combined = np.array([cycle for cycle in forward_complex_combined])\n",
    "            print(forward_complex_combined.shape)\n",
    "\n",
    "            reverse_complex_combined = np.concatenate(reverse_complex_arrays)\n",
    "            reverse_complex_accumulated = np.array([cycle[-1] - cycle[0] for cycle in reverse_complex_combined])\n",
    "            reverse_complex_combined = np.array([cycle for cycle in reverse_complex_combined])\n",
    "\n",
    "            forward_apo_combined = np.concatenate(forward_apo_arrays)\n",
    "            forward_apo_accumulated = np.array([cycle[-1] - cycle[0] for cycle in forward_apo_combined])\n",
    "            forward_apo_combined = np.array([cycle for cycle in forward_apo_combined])\n",
    "            print(forward_apo_combined.shape)\n",
    "\n",
    "            reverse_apo_combined = np.concatenate(reverse_apo_arrays)\n",
    "            reverse_apo_accumulated = np.array([cycle[-1] - cycle[0] for cycle in reverse_apo_combined])\n",
    "            reverse_apo_combined = np.array([cycle for cycle in reverse_apo_combined])\n",
    "\n",
    "\n",
    "            # Analyse\n",
    "\n",
    "            ## complex\n",
    "            forward_complex_work_offset, reverse_complex_work_offset = subtract_offset(forward_complex_combined,\n",
    "                                                                                    reverse_complex_combined)\n",
    "\n",
    "            complex_dg, complex_ddg = analyse(forward_complex_accumulated,\n",
    "                                            reverse_complex_accumulated)\n",
    "\n",
    "            ## apo\n",
    "            forward_apo_work_offset, reverse_apo_work_offset = subtract_offset(forward_apo_combined,\n",
    "                                                                            reverse_apo_combined)\n",
    "\n",
    "            apo_dg, apo_ddg = analyse(forward_apo_accumulated, reverse_apo_accumulated)\n",
    "\n",
    "            ## make the output directories\n",
    "            if not os.path.exists(f'{base_output_dir}{ntrk}/{tki}'):\n",
    "                os.makedirs(f'{base_output_dir}{ntrk}/{tki}')\n",
    "\n",
    "            ## plot the work trajectories and distibutions\n",
    "            complex_plot = plot_works(forward_complex_work_offset,\n",
    "                                    reverse_complex_work_offset,\n",
    "                                    complex_dg,\n",
    "                                    complex_ddg,\n",
    "                                    phase='complex',\n",
    "                                    mutation=mutation,\n",
    "                                    title=f'{ntrk.upper()}-{tki} {mutation}',\n",
    "                                    save=True,\n",
    "                                    output_dir=f'{base_output_dir}{ntrk}/{tki}')\n",
    "\n",
    "            apo_plot = plot_works(forward_apo_work_offset,\n",
    "                                reverse_apo_work_offset,\n",
    "                                apo_dg,\n",
    "                                apo_ddg,\n",
    "                                phase='apo',\n",
    "                                mutation=mutation,\n",
    "                                title=f'{ntrk.upper()}-{tki} {mutation}',\n",
    "                                save=True,\n",
    "                                output_dir=f'{base_output_dir}{ntrk}/{tki}')\n",
    "\n",
    "            ## Get binding dg and ddg\n",
    "            binding_dg = complex_dg - apo_dg\n",
    "            binding_ddg = (apo_ddg**2 + complex_ddg**2)**0.5\n",
    "            ntrk1_df[tki][mutation] = [binding_dg, binding_ddg]\n",
    "            print(f\"--> complex_dg: {complex_dg}\")\n",
    "            print(f\"--> apo dg: {apo_dg}\")\n",
    "\n",
    "        else:\n",
    "            print(f\"--> dir {mutation} has at least one phase without data\" )"
   ]
  },
  {
   "cell_type": "code",
   "execution_count": 5,
   "metadata": {},
   "outputs": [],
   "source": [
    "output_path = '/home/glassw/GITHUB/study-ntrk-resistance/notebooks/free_energy_calculations/ntrk1_G613V_R780Q_analysis/NTRK1/'\n",
    "sim_df = pd.DataFrame(ntrk1_df['entrectinib']).T\n",
    "\n",
    "\n"
   ]
  },
  {
   "cell_type": "code",
   "execution_count": 7,
   "metadata": {},
   "outputs": [
    {
     "output_type": "execute_result",
     "data": {
      "text/plain": [
       "{'larotrectinib': {'G613V': [-0.019880375272570916, 0.3327860875840932],\n",
       "  'R780Q': [-0.5667073990397, 0.33242110481102394]},\n",
       " 'entrectinib': {'G613V': [-1.5406374465999437, 0.31311028941591434],\n",
       "  'R780Q': [-0.2969685962527535, 0.236678182419231]}}"
      ]
     },
     "metadata": {},
     "execution_count": 7
    }
   ],
   "source": [
    "ntrk1_df"
   ]
  },
  {
   "cell_type": "code",
   "execution_count": 8,
   "metadata": {},
   "outputs": [],
   "source": [
    "sim_ntrk1_lar = pd.DataFrame(ntrk1_df['larotrectinib']).T * KT_KCALMOL\n",
    "sim_ntrk1_ent = pd.DataFrame(ntrk1_df['entrectinib']).T * KT_KCALMOL\n",
    "\n",
    "sim_ntrk1_lar.columns = [\"DDG (kcal / mol)\", \"dDDG (kcal / mol)\"]\n",
    "sim_ntrk1_ent.columns = [\"DDG (kcal / mol)\", \"dDDG (kcal / mol)\"]"
   ]
  },
  {
   "cell_type": "code",
   "execution_count": 9,
   "metadata": {},
   "outputs": [
    {
     "output_type": "execute_result",
     "data": {
      "text/plain": [
       "       DDG (kcal / mol)  dDDG (kcal / mol)\n",
       "G613V         -0.011852           0.198394\n",
       "R780Q         -0.337849           0.198177"
      ],
      "text/html": "<div>\n<style scoped>\n    .dataframe tbody tr th:only-of-type {\n        vertical-align: middle;\n    }\n\n    .dataframe tbody tr th {\n        vertical-align: top;\n    }\n\n    .dataframe thead th {\n        text-align: right;\n    }\n</style>\n<table border=\"1\" class=\"dataframe\">\n  <thead>\n    <tr style=\"text-align: right;\">\n      <th></th>\n      <th>DDG (kcal / mol)</th>\n      <th>dDDG (kcal / mol)</th>\n    </tr>\n  </thead>\n  <tbody>\n    <tr>\n      <th>G613V</th>\n      <td>-0.011852</td>\n      <td>0.198394</td>\n    </tr>\n    <tr>\n      <th>R780Q</th>\n      <td>-0.337849</td>\n      <td>0.198177</td>\n    </tr>\n  </tbody>\n</table>\n</div>"
     },
     "metadata": {},
     "execution_count": 9
    }
   ],
   "source": [
    "sim_ntrk1_lar"
   ]
  },
  {
   "cell_type": "code",
   "execution_count": 10,
   "metadata": {},
   "outputs": [
    {
     "output_type": "execute_result",
     "data": {
      "text/plain": [
       "       DDG (kcal / mol)  dDDG (kcal / mol)\n",
       "G613V         -0.918469           0.186664\n",
       "R780Q         -0.177041           0.141099"
      ],
      "text/html": "<div>\n<style scoped>\n    .dataframe tbody tr th:only-of-type {\n        vertical-align: middle;\n    }\n\n    .dataframe tbody tr th {\n        vertical-align: top;\n    }\n\n    .dataframe thead th {\n        text-align: right;\n    }\n</style>\n<table border=\"1\" class=\"dataframe\">\n  <thead>\n    <tr style=\"text-align: right;\">\n      <th></th>\n      <th>DDG (kcal / mol)</th>\n      <th>dDDG (kcal / mol)</th>\n    </tr>\n  </thead>\n  <tbody>\n    <tr>\n      <th>G613V</th>\n      <td>-0.918469</td>\n      <td>0.186664</td>\n    </tr>\n    <tr>\n      <th>R780Q</th>\n      <td>-0.177041</td>\n      <td>0.141099</td>\n    </tr>\n  </tbody>\n</table>\n</div>"
     },
     "metadata": {},
     "execution_count": 10
    }
   ],
   "source": [
    "sim_ntrk1_ent"
   ]
  },
  {
   "cell_type": "code",
   "execution_count": 47,
   "metadata": {},
   "outputs": [],
   "source": [
    "sim_ntrk1_lar.to_csv(f'{output_path}ntrk1_laro_DDGs.csv')\n",
    "sim_ntrk1_ent.to_csv(f'{output_path}ntrk1_ent_DDGs.csv')"
   ]
  },
  {
   "cell_type": "code",
   "execution_count": null,
   "metadata": {},
   "outputs": [],
   "source": []
  }
 ],
 "metadata": {
  "kernelspec": {
   "name": "python3",
   "display_name": "Python 3.7.8 64-bit ('perses_dev': conda)"
  },
  "language_info": {
   "codemirror_mode": {
    "name": "ipython",
    "version": 3
   },
   "file_extension": ".py",
   "mimetype": "text/x-python",
   "name": "python",
   "nbconvert_exporter": "python",
   "pygments_lexer": "ipython3",
   "version": "3.7.8"
  },
  "interpreter": {
   "hash": "b7aeafdd60de42c967e74a1d486ca2da6deb7839535bfaaab52578ae60a842cd"
  }
 },
 "nbformat": 4,
 "nbformat_minor": 2
}