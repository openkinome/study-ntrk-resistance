{
 "cells": [
  {
   "cell_type": "code",
   "execution_count": 1,
   "source": [
    "from perses.analysis.analysis import Analysis\n",
    "import numpy as np\n",
    "import seaborn as sns\n",
    "import matplotlib.pyplot as plt\n",
    "import pymbar\n",
    "%matplotlib inline\n",
    "import os\n",
    "import itertools\n",
    "from tqdm import notebook as tqdm_notebook\n",
    "import pandas as pd\n",
    "\n",
    "\n",
    "from simtk.openmm import unit\n",
    "from openmmtools.constants import kB\n",
    "KT_KCALMOL = kB * 300 * unit.kelvin / unit.kilocalories_per_mole"
   ],
   "outputs": [],
   "metadata": {}
  },
  {
   "cell_type": "code",
   "execution_count": 2,
   "source": [
    "def subtract_offset(forward_work, reverse_work):\n",
    "\n",
    "    print(\"--> subtracting offset\")\n",
    "    \n",
    "    forward_work_offset = []\n",
    "    for cycle in forward_work:\n",
    "        forward_work_offset.append(np.array([val - cycle[0] for val in cycle[1:]]))\n",
    "    forward_work_offset = np.array(forward_work_offset)\n",
    "\n",
    "    reverse_work_offset = []\n",
    "    for cycle in reverse_work:\n",
    "        reverse_work_offset.append(np.array([val - cycle[0] for val in cycle[1:]]))\n",
    "    reverse_work_offset = np.array(reverse_work_offset)\n",
    "    \n",
    "    return forward_work_offset, reverse_work_offset\n",
    "\n",
    "\n",
    "def analyse(forward_accumulated, reverse_accumulated):\n",
    "    \n",
    "    print(\"--> computing dg, ddg\")\n",
    "    dg, ddg = pymbar.bar.BAR(forward_accumulated, reverse_accumulated)\n",
    "    \n",
    "    return dg, ddg\n",
    "\n",
    "\n",
    "def plot_works(forward_work_offset,\n",
    "               reverse_work_offset,\n",
    "               dg,\n",
    "               ddg,\n",
    "               phase,\n",
    "               mutation,\n",
    "               title,\n",
    "               save=False,\n",
    "               output_dir=None):\n",
    "    \n",
    "    CB_color_cycle = ['#377eb8', '#ff7f00', '#4daf4a',\n",
    "                  '#f781bf', '#a65628', '#984ea3',\n",
    "                  '#999999', '#e41a1c', '#dede00']\n",
    "    \n",
    "    # Plot work trajectories\n",
    "    # TODO: automatically determine the x axis -> this is a bit of a hack at the moment\n",
    "    print(\"--> plotting work trajs\")\n",
    "    \n",
    "    for i, cycle in enumerate(forward_work_offset):\n",
    "        \n",
    "        x = [(j+1)*12.1e-4 for j in range(len(list(cycle)))]\n",
    "        y = cycle\n",
    "        if i==0:\n",
    "            plt.plot(x, y, color=CB_color_cycle[0], label='forward')\n",
    "        else:\n",
    "            plt.plot(x, y, color=CB_color_cycle[0])\n",
    "        \n",
    "    for i, cycle in enumerate(reverse_work_offset):\n",
    "        \n",
    "        x = [(j+1)*12.1e-4 for j in range(len(list(cycle)))]\n",
    "        y = -cycle\n",
    "        if i==0:\n",
    "            plt.plot(x, y, color=CB_color_cycle[1], label='reverse')\n",
    "        else:\n",
    "            plt.plot(x, y, color=CB_color_cycle[1])\n",
    "        \n",
    "    plt.xlabel(\"$t_{neq}$ (ns)\")\n",
    "    plt.ylabel(\"work (kT)\")\n",
    "    plt.title(f\"{title} {phase}\")\n",
    "    plt.legend(loc='best')\n",
    "    if save:\n",
    "        if output_dir is not None:\n",
    "            plt.savefig(os.path.join(output_dir, f\"{mutation}_{phase}_work_traj.png\"), dpi=500)\n",
    "            print(f\"--> saved to: {os.path.join(output_dir, f'{mutation}_{phase}_work_traj.png')}\")\n",
    "        else:\n",
    "            print(\"--> No output_dir specified!\")\n",
    "    else:\n",
    "        plt.show()\n",
    "    plt.clf()\n",
    "    \n",
    "    # Plot work distributions\n",
    "    print(\"--> plotting work distrib\")\n",
    "    \n",
    "    accumulated_forward = [cycle[-1] for cycle in forward_work_offset]\n",
    "    accumulated_reverse = [-cycle[-1] for cycle in reverse_work_offset]\n",
    "    sns.distplot(accumulated_forward, color=CB_color_cycle[0], label='forward')\n",
    "    sns.distplot(accumulated_reverse, color=CB_color_cycle[1], label='reverse')\n",
    "    plt.axvline(dg)\n",
    "    plt.axvline(dg + ddg, linestyle='dashed')\n",
    "    plt.axvline(dg - ddg, linestyle='dashed')\n",
    "    plt.xlabel(\"work (kT)\")\n",
    "    plt.ylabel(\"p(w)\")\n",
    "    plt.title(f\"{title} {phase}\")\n",
    "    plt.legend(loc='best')\n",
    "    if save:\n",
    "        if output_dir is not None:\n",
    "            plt.savefig(os.path.join(output_dir, f\"{mutation}_{phase}_work_dist.png\"), dpi=500)\n",
    "            print(f\"--> saved to: {os.path.join(output_dir, f'{mutation}_{phase}_work_dist.png')}\")\n",
    "        else:\n",
    "            print(\"--> No output_dir specified!\")\n",
    "    else:\n",
    "        plt.show()\n",
    "    plt.clf()"
   ],
   "outputs": [],
   "metadata": {}
  },
  {
   "cell_type": "code",
   "execution_count": 3,
   "source": [
    "# ntrk1 mutations\n",
    "ntrk1_mutations = {\n",
    "    'larotrectinib': ['G595R', 'G667C'],\n",
    "    'selitrectinib': ['G595R', 'G667C'],\n",
    "    'repotrectinib': ['G595R'],\n",
    "    'entrectinib': ['G595R', 'G667C'],\n",
    "    }"
   ],
   "outputs": [],
   "metadata": {}
  },
  {
   "cell_type": "code",
   "execution_count": 4,
   "source": [
    "base_data_path = '/data/chodera/glassw/miame/ntrk_resistance_mutations/run_noneq/NTRK1/'\n",
    "base_output_dir = '/home/glassw/GITHUB/study-ntrk-resistance/notebooks/perses/perses_analysis_output/'\n",
    "ntrk = 'NTRK1'\n",
    "\n",
    "ntrk1_df = {\n",
    "    'larotrectinib': {},\n",
    "    'selitrectinib': {},\n",
    "    'repotrectinib': {},\n",
    "    'entrectinib': {},\n",
    "    }\n",
    "\n",
    "for tki in ntrk1_mutations:\n",
    "\n",
    "    for mutation in ntrk1_mutations[tki]:\n",
    "\n",
    "        # Load and combine arrays\n",
    "        forward_complex_arrays = []\n",
    "        reverse_complex_arrays = []\n",
    "        forward_apo_arrays = []\n",
    "        reverse_apo_arrays = []\n",
    "\n",
    "        for j in tqdm_notebook.tqdm(range(100)):\n",
    "\n",
    "            forward_complex_path = f'{base_data_path}{mutation}/NTRK1_{tki}_{mutation}_complex_{j}_forward.npy'\n",
    "            reverse_complex_path = f'{base_data_path}{mutation}/NTRK1_{tki}_{mutation}_complex_{j}_reverse.npy'\n",
    "            forward_apo_path = f'{base_data_path}{mutation}/NTRK1_{tki}_{mutation}_apo_{j}_forward.npy'\n",
    "            reverse_apo_path = f'{base_data_path}{mutation}/NTRK1_{tki}_{mutation}_apo_{j}_reverse.npy'\n",
    "\n",
    "            if os.path.exists(forward_complex_path):\n",
    "                with open(forward_complex_path, 'rb') as f:\n",
    "                    forward_complex_arrays.append(np.load(f))\n",
    "\n",
    "            if os.path.exists(reverse_complex_path):\n",
    "                with open(reverse_complex_path, 'rb') as f:\n",
    "                    reverse_complex_arrays.append(np.load(f))\n",
    "\n",
    "            if os.path.exists(forward_apo_path):\n",
    "                with open(forward_apo_path, 'rb') as f:\n",
    "                    forward_apo_arrays.append(np.load(f))\n",
    "\n",
    "            if os.path.exists(reverse_apo_path):\n",
    "                with open(reverse_apo_path, 'rb') as f:\n",
    "                    reverse_apo_arrays.append(np.load(f))\n",
    "\n",
    "        if forward_complex_arrays and reverse_complex_arrays and forward_apo_arrays and reverse_apo_arrays:\n",
    "\n",
    "            forward_complex_combined = np.concatenate(forward_complex_arrays)\n",
    "            forward_complex_accumulated = np.array([cycle[-1] - cycle[0] for cycle in forward_complex_combined]) # compute this separately bc the last value of the subsampled array is diff than the actual last sample\n",
    "            forward_complex_combined = np.array([cycle for cycle in forward_complex_combined])\n",
    "            print(forward_complex_combined.shape)\n",
    "\n",
    "            reverse_complex_combined = np.concatenate(reverse_complex_arrays)\n",
    "            reverse_complex_accumulated = np.array([cycle[-1] - cycle[0] for cycle in reverse_complex_combined])\n",
    "            reverse_complex_combined = np.array([cycle for cycle in reverse_complex_combined])\n",
    "\n",
    "            forward_apo_combined = np.concatenate(forward_apo_arrays)\n",
    "            forward_apo_accumulated = np.array([cycle[-1] - cycle[0] for cycle in forward_apo_combined])\n",
    "            forward_apo_combined = np.array([cycle for cycle in forward_apo_combined])\n",
    "            print(forward_apo_combined.shape)\n",
    "\n",
    "            reverse_apo_combined = np.concatenate(reverse_apo_arrays)\n",
    "            reverse_apo_accumulated = np.array([cycle[-1] - cycle[0] for cycle in reverse_apo_combined])\n",
    "            reverse_apo_combined = np.array([cycle for cycle in reverse_apo_combined])\n",
    "\n",
    "\n",
    "            # Analyse\n",
    "\n",
    "            ## complex\n",
    "            forward_complex_work_offset, reverse_complex_work_offset = subtract_offset(forward_complex_combined,\n",
    "                                                                                    reverse_complex_combined)\n",
    "\n",
    "            complex_dg, complex_ddg = analyse(forward_complex_accumulated,\n",
    "                                            reverse_complex_accumulated)\n",
    "\n",
    "            ## apo\n",
    "            forward_apo_work_offset, reverse_apo_work_offset = subtract_offset(forward_apo_combined,\n",
    "                                                                            reverse_apo_combined)\n",
    "\n",
    "            apo_dg, apo_ddg = analyse(forward_apo_accumulated, reverse_apo_accumulated)\n",
    "\n",
    "            ## make the output directories\n",
    "            if not os.path.exists(f'{base_output_dir}{ntrk}/{tki}'):\n",
    "                os.makedirs(f'{base_output_dir}{ntrk}/{tki}')\n",
    "\n",
    "            ## plot the work trajectories and distibutions\n",
    "            complex_plot = plot_works(forward_complex_work_offset,\n",
    "                                    reverse_complex_work_offset,\n",
    "                                    complex_dg,\n",
    "                                    complex_ddg,\n",
    "                                    phase='complex',\n",
    "                                    mutation=mutation,\n",
    "                                    title=f'{ntrk.upper()}-{tki} {mutation}',\n",
    "                                    save=True,\n",
    "                                    output_dir=f'{base_output_dir}{ntrk}/{tki}')\n",
    "\n",
    "            apo_plot = plot_works(forward_apo_work_offset,\n",
    "                                reverse_apo_work_offset,\n",
    "                                apo_dg,\n",
    "                                apo_ddg,\n",
    "                                phase='apo',\n",
    "                                mutation=mutation,\n",
    "                                title=f'{ntrk.upper()}-{tki} {mutation}',\n",
    "                                save=True,\n",
    "                                output_dir=f'{base_output_dir}{ntrk}/{tki}')\n",
    "\n",
    "            ## Get binding dg and ddg\n",
    "            binding_dg = complex_dg - apo_dg\n",
    "            binding_ddg = (apo_ddg**2 + complex_ddg**2)**0.5\n",
    "            ntrk1_df[tki][mutation] = [binding_dg, binding_ddg]\n",
    "            print(f\"--> complex_dg: {complex_dg}\")\n",
    "            print(f\"--> apo dg: {apo_dg}\")\n",
    "\n",
    "        else:\n",
    "            print(f\"--> dir {mutation} has at least one phase without data\" )"
   ],
   "outputs": [
    {
     "output_type": "display_data",
     "data": {
      "text/plain": [
       "HBox(children=(HTML(value=''), FloatProgress(value=0.0), HTML(value='')))"
      ],
      "application/vnd.jupyter.widget-view+json": {
       "version_major": 2,
       "version_minor": 0,
       "model_id": "58475f8a024f4891ba1e543abc8f0080"
      }
     },
     "metadata": {}
    },
    {
     "output_type": "stream",
     "name": "stdout",
     "text": [
      "\n",
      "(100, 1251)\n",
      "(100, 1251)\n",
      "--> subtracting offset\n",
      "--> computing dg, ddg\n",
      "--> subtracting offset\n",
      "--> computing dg, ddg\n",
      "--> plotting work trajs\n",
      "--> saved to: /home/glassw/GITHUB/study-ntrk-resistance/notebooks/perses/perses_analysis_output/NTRK1/larotrectinib/G595R_complex_work_traj.png\n",
      "--> plotting work distrib\n"
     ]
    },
    {
     "output_type": "stream",
     "name": "stderr",
     "text": [
      "/home/glassw/miniconda/envs/perses_dev/lib/python3.7/site-packages/seaborn/distributions.py:2551: FutureWarning: `distplot` is a deprecated function and will be removed in a future version. Please adapt your code to use either `displot` (a figure-level function with similar flexibility) or `histplot` (an axes-level function for histograms).\n",
      "  warnings.warn(msg, FutureWarning)\n",
      "/home/glassw/miniconda/envs/perses_dev/lib/python3.7/site-packages/seaborn/distributions.py:2551: FutureWarning: `distplot` is a deprecated function and will be removed in a future version. Please adapt your code to use either `displot` (a figure-level function with similar flexibility) or `histplot` (an axes-level function for histograms).\n",
      "  warnings.warn(msg, FutureWarning)\n"
     ]
    },
    {
     "output_type": "stream",
     "name": "stdout",
     "text": [
      "--> saved to: /home/glassw/GITHUB/study-ntrk-resistance/notebooks/perses/perses_analysis_output/NTRK1/larotrectinib/G595R_complex_work_dist.png\n",
      "--> plotting work trajs\n",
      "--> saved to: /home/glassw/GITHUB/study-ntrk-resistance/notebooks/perses/perses_analysis_output/NTRK1/larotrectinib/G595R_apo_work_traj.png\n",
      "--> plotting work distrib\n"
     ]
    },
    {
     "output_type": "stream",
     "name": "stderr",
     "text": [
      "/home/glassw/miniconda/envs/perses_dev/lib/python3.7/site-packages/seaborn/distributions.py:2551: FutureWarning: `distplot` is a deprecated function and will be removed in a future version. Please adapt your code to use either `displot` (a figure-level function with similar flexibility) or `histplot` (an axes-level function for histograms).\n",
      "  warnings.warn(msg, FutureWarning)\n",
      "/home/glassw/miniconda/envs/perses_dev/lib/python3.7/site-packages/seaborn/distributions.py:2551: FutureWarning: `distplot` is a deprecated function and will be removed in a future version. Please adapt your code to use either `displot` (a figure-level function with similar flexibility) or `histplot` (an axes-level function for histograms).\n",
      "  warnings.warn(msg, FutureWarning)\n"
     ]
    },
    {
     "output_type": "stream",
     "name": "stdout",
     "text": [
      "--> saved to: /home/glassw/GITHUB/study-ntrk-resistance/notebooks/perses/perses_analysis_output/NTRK1/larotrectinib/G595R_apo_work_dist.png\n",
      "--> complex_dg: -247.33264983807112\n",
      "--> apo dg: -252.2656966614243\n"
     ]
    },
    {
     "output_type": "display_data",
     "data": {
      "text/plain": [
       "HBox(children=(HTML(value=''), FloatProgress(value=0.0), HTML(value='')))"
      ],
      "application/vnd.jupyter.widget-view+json": {
       "version_major": 2,
       "version_minor": 0,
       "model_id": "a235f1b1337045abaddfaf118a87d7c7"
      }
     },
     "metadata": {}
    },
    {
     "output_type": "stream",
     "name": "stdout",
     "text": [
      "\n",
      "(100, 1251)\n",
      "(100, 1251)\n",
      "--> subtracting offset\n",
      "--> computing dg, ddg\n",
      "--> subtracting offset\n",
      "--> computing dg, ddg\n",
      "--> plotting work trajs\n",
      "--> saved to: /home/glassw/GITHUB/study-ntrk-resistance/notebooks/perses/perses_analysis_output/NTRK1/larotrectinib/G667C_complex_work_traj.png\n",
      "--> plotting work distrib\n"
     ]
    },
    {
     "output_type": "stream",
     "name": "stderr",
     "text": [
      "/home/glassw/miniconda/envs/perses_dev/lib/python3.7/site-packages/seaborn/distributions.py:2551: FutureWarning: `distplot` is a deprecated function and will be removed in a future version. Please adapt your code to use either `displot` (a figure-level function with similar flexibility) or `histplot` (an axes-level function for histograms).\n",
      "  warnings.warn(msg, FutureWarning)\n",
      "/home/glassw/miniconda/envs/perses_dev/lib/python3.7/site-packages/seaborn/distributions.py:2551: FutureWarning: `distplot` is a deprecated function and will be removed in a future version. Please adapt your code to use either `displot` (a figure-level function with similar flexibility) or `histplot` (an axes-level function for histograms).\n",
      "  warnings.warn(msg, FutureWarning)\n"
     ]
    },
    {
     "output_type": "stream",
     "name": "stdout",
     "text": [
      "--> saved to: /home/glassw/GITHUB/study-ntrk-resistance/notebooks/perses/perses_analysis_output/NTRK1/larotrectinib/G667C_complex_work_dist.png\n",
      "--> plotting work trajs\n",
      "--> saved to: /home/glassw/GITHUB/study-ntrk-resistance/notebooks/perses/perses_analysis_output/NTRK1/larotrectinib/G667C_apo_work_traj.png\n",
      "--> plotting work distrib\n"
     ]
    },
    {
     "output_type": "stream",
     "name": "stderr",
     "text": [
      "/home/glassw/miniconda/envs/perses_dev/lib/python3.7/site-packages/seaborn/distributions.py:2551: FutureWarning: `distplot` is a deprecated function and will be removed in a future version. Please adapt your code to use either `displot` (a figure-level function with similar flexibility) or `histplot` (an axes-level function for histograms).\n",
      "  warnings.warn(msg, FutureWarning)\n",
      "/home/glassw/miniconda/envs/perses_dev/lib/python3.7/site-packages/seaborn/distributions.py:2551: FutureWarning: `distplot` is a deprecated function and will be removed in a future version. Please adapt your code to use either `displot` (a figure-level function with similar flexibility) or `histplot` (an axes-level function for histograms).\n",
      "  warnings.warn(msg, FutureWarning)\n"
     ]
    },
    {
     "output_type": "stream",
     "name": "stdout",
     "text": [
      "--> saved to: /home/glassw/GITHUB/study-ntrk-resistance/notebooks/perses/perses_analysis_output/NTRK1/larotrectinib/G667C_apo_work_dist.png\n",
      "--> complex_dg: 41.92357849927903\n",
      "--> apo dg: 36.43078481994163\n"
     ]
    },
    {
     "output_type": "display_data",
     "data": {
      "text/plain": [
       "HBox(children=(HTML(value=''), FloatProgress(value=0.0), HTML(value='')))"
      ],
      "application/vnd.jupyter.widget-view+json": {
       "version_major": 2,
       "version_minor": 0,
       "model_id": "48c98a1be82242c9976f9fea23ce7e20"
      }
     },
     "metadata": {}
    },
    {
     "output_type": "stream",
     "name": "stdout",
     "text": [
      "\n",
      "(100, 1251)\n",
      "(100, 1251)\n",
      "--> subtracting offset\n",
      "--> computing dg, ddg\n",
      "--> subtracting offset\n",
      "--> computing dg, ddg\n",
      "--> plotting work trajs\n",
      "--> saved to: /home/glassw/GITHUB/study-ntrk-resistance/notebooks/perses/perses_analysis_output/NTRK1/selitrectinib/G595R_complex_work_traj.png\n",
      "--> plotting work distrib\n"
     ]
    },
    {
     "output_type": "stream",
     "name": "stderr",
     "text": [
      "/home/glassw/miniconda/envs/perses_dev/lib/python3.7/site-packages/seaborn/distributions.py:2551: FutureWarning: `distplot` is a deprecated function and will be removed in a future version. Please adapt your code to use either `displot` (a figure-level function with similar flexibility) or `histplot` (an axes-level function for histograms).\n",
      "  warnings.warn(msg, FutureWarning)\n",
      "/home/glassw/miniconda/envs/perses_dev/lib/python3.7/site-packages/seaborn/distributions.py:2551: FutureWarning: `distplot` is a deprecated function and will be removed in a future version. Please adapt your code to use either `displot` (a figure-level function with similar flexibility) or `histplot` (an axes-level function for histograms).\n",
      "  warnings.warn(msg, FutureWarning)\n"
     ]
    },
    {
     "output_type": "stream",
     "name": "stdout",
     "text": [
      "--> saved to: /home/glassw/GITHUB/study-ntrk-resistance/notebooks/perses/perses_analysis_output/NTRK1/selitrectinib/G595R_complex_work_dist.png\n",
      "--> plotting work trajs\n",
      "--> saved to: /home/glassw/GITHUB/study-ntrk-resistance/notebooks/perses/perses_analysis_output/NTRK1/selitrectinib/G595R_apo_work_traj.png\n",
      "--> plotting work distrib\n"
     ]
    },
    {
     "output_type": "stream",
     "name": "stderr",
     "text": [
      "/home/glassw/miniconda/envs/perses_dev/lib/python3.7/site-packages/seaborn/distributions.py:2551: FutureWarning: `distplot` is a deprecated function and will be removed in a future version. Please adapt your code to use either `displot` (a figure-level function with similar flexibility) or `histplot` (an axes-level function for histograms).\n",
      "  warnings.warn(msg, FutureWarning)\n",
      "/home/glassw/miniconda/envs/perses_dev/lib/python3.7/site-packages/seaborn/distributions.py:2551: FutureWarning: `distplot` is a deprecated function and will be removed in a future version. Please adapt your code to use either `displot` (a figure-level function with similar flexibility) or `histplot` (an axes-level function for histograms).\n",
      "  warnings.warn(msg, FutureWarning)\n"
     ]
    },
    {
     "output_type": "stream",
     "name": "stdout",
     "text": [
      "--> saved to: /home/glassw/GITHUB/study-ntrk-resistance/notebooks/perses/perses_analysis_output/NTRK1/selitrectinib/G595R_apo_work_dist.png\n",
      "--> complex_dg: -251.0378945933166\n",
      "--> apo dg: -252.45103045129528\n"
     ]
    },
    {
     "output_type": "display_data",
     "data": {
      "text/plain": [
       "HBox(children=(HTML(value=''), FloatProgress(value=0.0), HTML(value='')))"
      ],
      "application/vnd.jupyter.widget-view+json": {
       "version_major": 2,
       "version_minor": 0,
       "model_id": "f8d4565e42d14e0eb9b3b8ba2e073094"
      }
     },
     "metadata": {}
    },
    {
     "output_type": "stream",
     "name": "stdout",
     "text": [
      "\n",
      "(100, 1251)\n",
      "(100, 1251)\n",
      "--> subtracting offset\n",
      "--> computing dg, ddg\n",
      "--> subtracting offset\n",
      "--> computing dg, ddg\n",
      "--> plotting work trajs\n",
      "--> saved to: /home/glassw/GITHUB/study-ntrk-resistance/notebooks/perses/perses_analysis_output/NTRK1/selitrectinib/G667C_complex_work_traj.png\n",
      "--> plotting work distrib\n"
     ]
    },
    {
     "output_type": "stream",
     "name": "stderr",
     "text": [
      "/home/glassw/miniconda/envs/perses_dev/lib/python3.7/site-packages/seaborn/distributions.py:2551: FutureWarning: `distplot` is a deprecated function and will be removed in a future version. Please adapt your code to use either `displot` (a figure-level function with similar flexibility) or `histplot` (an axes-level function for histograms).\n",
      "  warnings.warn(msg, FutureWarning)\n",
      "/home/glassw/miniconda/envs/perses_dev/lib/python3.7/site-packages/seaborn/distributions.py:2551: FutureWarning: `distplot` is a deprecated function and will be removed in a future version. Please adapt your code to use either `displot` (a figure-level function with similar flexibility) or `histplot` (an axes-level function for histograms).\n",
      "  warnings.warn(msg, FutureWarning)\n"
     ]
    },
    {
     "output_type": "stream",
     "name": "stdout",
     "text": [
      "--> saved to: /home/glassw/GITHUB/study-ntrk-resistance/notebooks/perses/perses_analysis_output/NTRK1/selitrectinib/G667C_complex_work_dist.png\n",
      "--> plotting work trajs\n",
      "--> saved to: /home/glassw/GITHUB/study-ntrk-resistance/notebooks/perses/perses_analysis_output/NTRK1/selitrectinib/G667C_apo_work_traj.png\n",
      "--> plotting work distrib\n"
     ]
    },
    {
     "output_type": "stream",
     "name": "stderr",
     "text": [
      "/home/glassw/miniconda/envs/perses_dev/lib/python3.7/site-packages/seaborn/distributions.py:2551: FutureWarning: `distplot` is a deprecated function and will be removed in a future version. Please adapt your code to use either `displot` (a figure-level function with similar flexibility) or `histplot` (an axes-level function for histograms).\n",
      "  warnings.warn(msg, FutureWarning)\n",
      "/home/glassw/miniconda/envs/perses_dev/lib/python3.7/site-packages/seaborn/distributions.py:2551: FutureWarning: `distplot` is a deprecated function and will be removed in a future version. Please adapt your code to use either `displot` (a figure-level function with similar flexibility) or `histplot` (an axes-level function for histograms).\n",
      "  warnings.warn(msg, FutureWarning)\n"
     ]
    },
    {
     "output_type": "stream",
     "name": "stdout",
     "text": [
      "--> saved to: /home/glassw/GITHUB/study-ntrk-resistance/notebooks/perses/perses_analysis_output/NTRK1/selitrectinib/G667C_apo_work_dist.png\n",
      "--> complex_dg: 35.748207990547115\n",
      "--> apo dg: 37.551679120093404\n"
     ]
    },
    {
     "output_type": "display_data",
     "data": {
      "text/plain": [
       "HBox(children=(HTML(value=''), FloatProgress(value=0.0), HTML(value='')))"
      ],
      "application/vnd.jupyter.widget-view+json": {
       "version_major": 2,
       "version_minor": 0,
       "model_id": "7e006d7c82d345a3a62e5184cdb4ab0f"
      }
     },
     "metadata": {}
    },
    {
     "output_type": "stream",
     "name": "stdout",
     "text": [
      "\n",
      "(100, 1251)\n",
      "(100, 1251)\n",
      "--> subtracting offset\n",
      "--> computing dg, ddg\n",
      "--> subtracting offset\n",
      "--> computing dg, ddg\n",
      "--> plotting work trajs\n",
      "--> saved to: /home/glassw/GITHUB/study-ntrk-resistance/notebooks/perses/perses_analysis_output/NTRK1/repotrectinib/G595R_complex_work_traj.png\n",
      "--> plotting work distrib\n"
     ]
    },
    {
     "output_type": "stream",
     "name": "stderr",
     "text": [
      "/home/glassw/miniconda/envs/perses_dev/lib/python3.7/site-packages/seaborn/distributions.py:2551: FutureWarning: `distplot` is a deprecated function and will be removed in a future version. Please adapt your code to use either `displot` (a figure-level function with similar flexibility) or `histplot` (an axes-level function for histograms).\n",
      "  warnings.warn(msg, FutureWarning)\n",
      "/home/glassw/miniconda/envs/perses_dev/lib/python3.7/site-packages/seaborn/distributions.py:2551: FutureWarning: `distplot` is a deprecated function and will be removed in a future version. Please adapt your code to use either `displot` (a figure-level function with similar flexibility) or `histplot` (an axes-level function for histograms).\n",
      "  warnings.warn(msg, FutureWarning)\n"
     ]
    },
    {
     "output_type": "stream",
     "name": "stdout",
     "text": [
      "--> saved to: /home/glassw/GITHUB/study-ntrk-resistance/notebooks/perses/perses_analysis_output/NTRK1/repotrectinib/G595R_complex_work_dist.png\n",
      "--> plotting work trajs\n",
      "--> saved to: /home/glassw/GITHUB/study-ntrk-resistance/notebooks/perses/perses_analysis_output/NTRK1/repotrectinib/G595R_apo_work_traj.png\n",
      "--> plotting work distrib\n"
     ]
    },
    {
     "output_type": "stream",
     "name": "stderr",
     "text": [
      "/home/glassw/miniconda/envs/perses_dev/lib/python3.7/site-packages/seaborn/distributions.py:2551: FutureWarning: `distplot` is a deprecated function and will be removed in a future version. Please adapt your code to use either `displot` (a figure-level function with similar flexibility) or `histplot` (an axes-level function for histograms).\n",
      "  warnings.warn(msg, FutureWarning)\n",
      "/home/glassw/miniconda/envs/perses_dev/lib/python3.7/site-packages/seaborn/distributions.py:2551: FutureWarning: `distplot` is a deprecated function and will be removed in a future version. Please adapt your code to use either `displot` (a figure-level function with similar flexibility) or `histplot` (an axes-level function for histograms).\n",
      "  warnings.warn(msg, FutureWarning)\n"
     ]
    },
    {
     "output_type": "stream",
     "name": "stdout",
     "text": [
      "--> saved to: /home/glassw/GITHUB/study-ntrk-resistance/notebooks/perses/perses_analysis_output/NTRK1/repotrectinib/G595R_apo_work_dist.png\n",
      "--> complex_dg: -250.79957343683813\n",
      "--> apo dg: -251.77217403401633\n"
     ]
    },
    {
     "output_type": "display_data",
     "data": {
      "text/plain": [
       "HBox(children=(HTML(value=''), FloatProgress(value=0.0), HTML(value='')))"
      ],
      "application/vnd.jupyter.widget-view+json": {
       "version_major": 2,
       "version_minor": 0,
       "model_id": "c01133caea0549e0a563bcd75581f7df"
      }
     },
     "metadata": {}
    },
    {
     "output_type": "stream",
     "name": "stdout",
     "text": [
      "\n",
      "(100, 1251)\n",
      "(100, 1251)\n",
      "--> subtracting offset\n",
      "--> computing dg, ddg\n",
      "--> subtracting offset\n",
      "--> computing dg, ddg\n",
      "--> plotting work trajs\n",
      "--> saved to: /home/glassw/GITHUB/study-ntrk-resistance/notebooks/perses/perses_analysis_output/NTRK1/entrectinib/G595R_complex_work_traj.png\n",
      "--> plotting work distrib\n"
     ]
    },
    {
     "output_type": "stream",
     "name": "stderr",
     "text": [
      "/home/glassw/miniconda/envs/perses_dev/lib/python3.7/site-packages/seaborn/distributions.py:2551: FutureWarning: `distplot` is a deprecated function and will be removed in a future version. Please adapt your code to use either `displot` (a figure-level function with similar flexibility) or `histplot` (an axes-level function for histograms).\n",
      "  warnings.warn(msg, FutureWarning)\n",
      "/home/glassw/miniconda/envs/perses_dev/lib/python3.7/site-packages/seaborn/distributions.py:2551: FutureWarning: `distplot` is a deprecated function and will be removed in a future version. Please adapt your code to use either `displot` (a figure-level function with similar flexibility) or `histplot` (an axes-level function for histograms).\n",
      "  warnings.warn(msg, FutureWarning)\n"
     ]
    },
    {
     "output_type": "stream",
     "name": "stdout",
     "text": [
      "--> saved to: /home/glassw/GITHUB/study-ntrk-resistance/notebooks/perses/perses_analysis_output/NTRK1/entrectinib/G595R_complex_work_dist.png\n",
      "--> plotting work trajs\n",
      "--> saved to: /home/glassw/GITHUB/study-ntrk-resistance/notebooks/perses/perses_analysis_output/NTRK1/entrectinib/G595R_apo_work_traj.png\n",
      "--> plotting work distrib\n"
     ]
    },
    {
     "output_type": "stream",
     "name": "stderr",
     "text": [
      "/home/glassw/miniconda/envs/perses_dev/lib/python3.7/site-packages/seaborn/distributions.py:2551: FutureWarning: `distplot` is a deprecated function and will be removed in a future version. Please adapt your code to use either `displot` (a figure-level function with similar flexibility) or `histplot` (an axes-level function for histograms).\n",
      "  warnings.warn(msg, FutureWarning)\n",
      "/home/glassw/miniconda/envs/perses_dev/lib/python3.7/site-packages/seaborn/distributions.py:2551: FutureWarning: `distplot` is a deprecated function and will be removed in a future version. Please adapt your code to use either `displot` (a figure-level function with similar flexibility) or `histplot` (an axes-level function for histograms).\n",
      "  warnings.warn(msg, FutureWarning)\n"
     ]
    },
    {
     "output_type": "stream",
     "name": "stdout",
     "text": [
      "--> saved to: /home/glassw/GITHUB/study-ntrk-resistance/notebooks/perses/perses_analysis_output/NTRK1/entrectinib/G595R_apo_work_dist.png\n",
      "--> complex_dg: -246.4104786805165\n",
      "--> apo dg: -253.25899486374766\n"
     ]
    },
    {
     "output_type": "display_data",
     "data": {
      "text/plain": [
       "HBox(children=(HTML(value=''), FloatProgress(value=0.0), HTML(value='')))"
      ],
      "application/vnd.jupyter.widget-view+json": {
       "version_major": 2,
       "version_minor": 0,
       "model_id": "58c84092592645fca57013a5fcd60474"
      }
     },
     "metadata": {}
    },
    {
     "output_type": "stream",
     "name": "stdout",
     "text": [
      "\n",
      "(100, 1251)\n",
      "(100, 1251)\n",
      "--> subtracting offset\n",
      "--> computing dg, ddg\n",
      "--> subtracting offset\n",
      "--> computing dg, ddg\n",
      "--> plotting work trajs\n",
      "--> saved to: /home/glassw/GITHUB/study-ntrk-resistance/notebooks/perses/perses_analysis_output/NTRK1/entrectinib/G667C_complex_work_traj.png\n",
      "--> plotting work distrib\n"
     ]
    },
    {
     "output_type": "stream",
     "name": "stderr",
     "text": [
      "/home/glassw/miniconda/envs/perses_dev/lib/python3.7/site-packages/seaborn/distributions.py:2551: FutureWarning: `distplot` is a deprecated function and will be removed in a future version. Please adapt your code to use either `displot` (a figure-level function with similar flexibility) or `histplot` (an axes-level function for histograms).\n",
      "  warnings.warn(msg, FutureWarning)\n",
      "/home/glassw/miniconda/envs/perses_dev/lib/python3.7/site-packages/seaborn/distributions.py:2551: FutureWarning: `distplot` is a deprecated function and will be removed in a future version. Please adapt your code to use either `displot` (a figure-level function with similar flexibility) or `histplot` (an axes-level function for histograms).\n",
      "  warnings.warn(msg, FutureWarning)\n"
     ]
    },
    {
     "output_type": "stream",
     "name": "stdout",
     "text": [
      "--> saved to: /home/glassw/GITHUB/study-ntrk-resistance/notebooks/perses/perses_analysis_output/NTRK1/entrectinib/G667C_complex_work_dist.png\n",
      "--> plotting work trajs\n",
      "--> saved to: /home/glassw/GITHUB/study-ntrk-resistance/notebooks/perses/perses_analysis_output/NTRK1/entrectinib/G667C_apo_work_traj.png\n",
      "--> plotting work distrib\n"
     ]
    },
    {
     "output_type": "stream",
     "name": "stderr",
     "text": [
      "/home/glassw/miniconda/envs/perses_dev/lib/python3.7/site-packages/seaborn/distributions.py:2551: FutureWarning: `distplot` is a deprecated function and will be removed in a future version. Please adapt your code to use either `displot` (a figure-level function with similar flexibility) or `histplot` (an axes-level function for histograms).\n",
      "  warnings.warn(msg, FutureWarning)\n",
      "/home/glassw/miniconda/envs/perses_dev/lib/python3.7/site-packages/seaborn/distributions.py:2551: FutureWarning: `distplot` is a deprecated function and will be removed in a future version. Please adapt your code to use either `displot` (a figure-level function with similar flexibility) or `histplot` (an axes-level function for histograms).\n",
      "  warnings.warn(msg, FutureWarning)\n"
     ]
    },
    {
     "output_type": "stream",
     "name": "stdout",
     "text": [
      "--> saved to: /home/glassw/GITHUB/study-ntrk-resistance/notebooks/perses/perses_analysis_output/NTRK1/entrectinib/G667C_apo_work_dist.png\n",
      "--> complex_dg: 39.66522031838358\n",
      "--> apo dg: 36.50781167122682\n"
     ]
    },
    {
     "output_type": "display_data",
     "data": {
      "text/plain": [
       "HBox(children=(HTML(value=''), FloatProgress(value=0.0), HTML(value='')))"
      ],
      "application/vnd.jupyter.widget-view+json": {
       "version_major": 2,
       "version_minor": 0,
       "model_id": "2c022fc04b4149f3a74c13e0f4bb4878"
      }
     },
     "metadata": {}
    },
    {
     "output_type": "stream",
     "name": "stdout",
     "text": [
      "\n",
      "(100, 1251)\n",
      "(100, 1251)\n",
      "--> subtracting offset\n",
      "--> computing dg, ddg\n",
      "--> subtracting offset\n",
      "--> computing dg, ddg\n",
      "--> plotting work trajs\n",
      "--> saved to: /home/glassw/GITHUB/study-ntrk-resistance/notebooks/perses/perses_analysis_output/NTRK1/regorafenib/G595R_complex_work_traj.png\n",
      "--> plotting work distrib\n"
     ]
    },
    {
     "output_type": "stream",
     "name": "stderr",
     "text": [
      "/home/glassw/miniconda/envs/perses_dev/lib/python3.7/site-packages/seaborn/distributions.py:2551: FutureWarning: `distplot` is a deprecated function and will be removed in a future version. Please adapt your code to use either `displot` (a figure-level function with similar flexibility) or `histplot` (an axes-level function for histograms).\n",
      "  warnings.warn(msg, FutureWarning)\n",
      "/home/glassw/miniconda/envs/perses_dev/lib/python3.7/site-packages/seaborn/distributions.py:2551: FutureWarning: `distplot` is a deprecated function and will be removed in a future version. Please adapt your code to use either `displot` (a figure-level function with similar flexibility) or `histplot` (an axes-level function for histograms).\n",
      "  warnings.warn(msg, FutureWarning)\n"
     ]
    },
    {
     "output_type": "stream",
     "name": "stdout",
     "text": [
      "--> saved to: /home/glassw/GITHUB/study-ntrk-resistance/notebooks/perses/perses_analysis_output/NTRK1/regorafenib/G595R_complex_work_dist.png\n",
      "--> plotting work trajs\n",
      "--> saved to: /home/glassw/GITHUB/study-ntrk-resistance/notebooks/perses/perses_analysis_output/NTRK1/regorafenib/G595R_apo_work_traj.png\n",
      "--> plotting work distrib\n"
     ]
    },
    {
     "output_type": "stream",
     "name": "stderr",
     "text": [
      "/home/glassw/miniconda/envs/perses_dev/lib/python3.7/site-packages/seaborn/distributions.py:2551: FutureWarning: `distplot` is a deprecated function and will be removed in a future version. Please adapt your code to use either `displot` (a figure-level function with similar flexibility) or `histplot` (an axes-level function for histograms).\n",
      "  warnings.warn(msg, FutureWarning)\n",
      "/home/glassw/miniconda/envs/perses_dev/lib/python3.7/site-packages/seaborn/distributions.py:2551: FutureWarning: `distplot` is a deprecated function and will be removed in a future version. Please adapt your code to use either `displot` (a figure-level function with similar flexibility) or `histplot` (an axes-level function for histograms).\n",
      "  warnings.warn(msg, FutureWarning)\n"
     ]
    },
    {
     "output_type": "stream",
     "name": "stdout",
     "text": [
      "--> saved to: /home/glassw/GITHUB/study-ntrk-resistance/notebooks/perses/perses_analysis_output/NTRK1/regorafenib/G595R_apo_work_dist.png\n",
      "--> complex_dg: -268.0626724703\n",
      "--> apo dg: -274.50319241741505\n"
     ]
    },
    {
     "output_type": "display_data",
     "data": {
      "text/plain": [
       "HBox(children=(HTML(value=''), FloatProgress(value=0.0), HTML(value='')))"
      ],
      "application/vnd.jupyter.widget-view+json": {
       "version_major": 2,
       "version_minor": 0,
       "model_id": "1d3f9f850923478ab408b7188a920e27"
      }
     },
     "metadata": {}
    },
    {
     "output_type": "stream",
     "name": "stdout",
     "text": [
      "\n",
      "(100, 1251)\n",
      "(100, 1251)\n",
      "--> subtracting offset\n",
      "--> computing dg, ddg\n",
      "Warning: BAR is likely to be inaccurate because of poor overlap. Improve the sampling, or decrease the spacing betweeen states.  For now, guessing that the free energy difference is 0 with no uncertainty.\n",
      "--> subtracting offset\n"
     ]
    },
    {
     "output_type": "stream",
     "name": "stderr",
     "text": [
      "/home/glassw/miniconda/envs/perses_dev/lib/python3.7/site-packages/pymbar/bar.py:118: RuntimeWarning: invalid value encountered in less\n",
      "  max_arg_F = np.choose(np.less(0.0, exp_arg_F), (0.0, exp_arg_F))\n",
      "/home/glassw/miniconda/envs/perses_dev/lib/python3.7/site-packages/pymbar/bar.py:135: RuntimeWarning: invalid value encountered in less\n",
      "  max_arg_R = np.choose(np.less(0.0, exp_arg_R), (0.0, exp_arg_R))\n"
     ]
    },
    {
     "output_type": "stream",
     "name": "stdout",
     "text": [
      "--> computing dg, ddg\n",
      "--> plotting work trajs\n",
      "--> saved to: /home/glassw/GITHUB/study-ntrk-resistance/notebooks/perses/perses_analysis_output/NTRK1/regorafenib/G667C_complex_work_traj.png\n",
      "--> plotting work distrib\n"
     ]
    },
    {
     "output_type": "stream",
     "name": "stderr",
     "text": [
      "/home/glassw/miniconda/envs/perses_dev/lib/python3.7/site-packages/seaborn/distributions.py:2551: FutureWarning: `distplot` is a deprecated function and will be removed in a future version. Please adapt your code to use either `displot` (a figure-level function with similar flexibility) or `histplot` (an axes-level function for histograms).\n",
      "  warnings.warn(msg, FutureWarning)\n",
      "/home/glassw/miniconda/envs/perses_dev/lib/python3.7/site-packages/seaborn/distributions.py:2551: FutureWarning: `distplot` is a deprecated function and will be removed in a future version. Please adapt your code to use either `displot` (a figure-level function with similar flexibility) or `histplot` (an axes-level function for histograms).\n",
      "  warnings.warn(msg, FutureWarning)\n"
     ]
    },
    {
     "output_type": "stream",
     "name": "stdout",
     "text": [
      "--> saved to: /home/glassw/GITHUB/study-ntrk-resistance/notebooks/perses/perses_analysis_output/NTRK1/regorafenib/G667C_complex_work_dist.png\n",
      "--> plotting work trajs\n",
      "--> saved to: /home/glassw/GITHUB/study-ntrk-resistance/notebooks/perses/perses_analysis_output/NTRK1/regorafenib/G667C_apo_work_traj.png\n",
      "--> plotting work distrib\n"
     ]
    },
    {
     "output_type": "stream",
     "name": "stderr",
     "text": [
      "/home/glassw/miniconda/envs/perses_dev/lib/python3.7/site-packages/seaborn/distributions.py:2551: FutureWarning: `distplot` is a deprecated function and will be removed in a future version. Please adapt your code to use either `displot` (a figure-level function with similar flexibility) or `histplot` (an axes-level function for histograms).\n",
      "  warnings.warn(msg, FutureWarning)\n",
      "/home/glassw/miniconda/envs/perses_dev/lib/python3.7/site-packages/seaborn/distributions.py:2551: FutureWarning: `distplot` is a deprecated function and will be removed in a future version. Please adapt your code to use either `displot` (a figure-level function with similar flexibility) or `histplot` (an axes-level function for histograms).\n",
      "  warnings.warn(msg, FutureWarning)\n"
     ]
    },
    {
     "output_type": "stream",
     "name": "stdout",
     "text": [
      "--> saved to: /home/glassw/GITHUB/study-ntrk-resistance/notebooks/perses/perses_analysis_output/NTRK1/regorafenib/G667C_apo_work_dist.png\n",
      "--> complex_dg: 0.0\n",
      "--> apo dg: 27.641368157930273\n"
     ]
    },
    {
     "output_type": "display_data",
     "data": {
      "text/plain": [
       "HBox(children=(HTML(value=''), FloatProgress(value=0.0), HTML(value='')))"
      ],
      "application/vnd.jupyter.widget-view+json": {
       "version_major": 2,
       "version_minor": 0,
       "model_id": "ec512dbc7c064a4ca099490a2fa9dfe5"
      }
     },
     "metadata": {}
    },
    {
     "output_type": "stream",
     "name": "stdout",
     "text": [
      "\n",
      "(100, 1251)\n",
      "(100, 1251)\n",
      "--> subtracting offset\n",
      "--> computing dg, ddg\n",
      "--> subtracting offset\n",
      "--> computing dg, ddg\n",
      "Warning: BAR is likely to be inaccurate because of poor overlap. Improve the sampling, or decrease the spacing betweeen states.  For now, guessing that the free energy difference is 0 with no uncertainty.\n",
      "--> plotting work trajs\n"
     ]
    },
    {
     "output_type": "stream",
     "name": "stderr",
     "text": [
      "/home/glassw/miniconda/envs/perses_dev/lib/python3.7/site-packages/pymbar/bar.py:118: RuntimeWarning: invalid value encountered in less\n",
      "  max_arg_F = np.choose(np.less(0.0, exp_arg_F), (0.0, exp_arg_F))\n",
      "/home/glassw/miniconda/envs/perses_dev/lib/python3.7/site-packages/pymbar/bar.py:135: RuntimeWarning: invalid value encountered in less\n",
      "  max_arg_R = np.choose(np.less(0.0, exp_arg_R), (0.0, exp_arg_R))\n"
     ]
    },
    {
     "output_type": "stream",
     "name": "stdout",
     "text": [
      "--> saved to: /home/glassw/GITHUB/study-ntrk-resistance/notebooks/perses/perses_analysis_output/NTRK1/sorafenib/G595R_complex_work_traj.png\n",
      "--> plotting work distrib\n"
     ]
    },
    {
     "output_type": "stream",
     "name": "stderr",
     "text": [
      "/home/glassw/miniconda/envs/perses_dev/lib/python3.7/site-packages/seaborn/distributions.py:2551: FutureWarning: `distplot` is a deprecated function and will be removed in a future version. Please adapt your code to use either `displot` (a figure-level function with similar flexibility) or `histplot` (an axes-level function for histograms).\n",
      "  warnings.warn(msg, FutureWarning)\n",
      "/home/glassw/miniconda/envs/perses_dev/lib/python3.7/site-packages/seaborn/distributions.py:2551: FutureWarning: `distplot` is a deprecated function and will be removed in a future version. Please adapt your code to use either `displot` (a figure-level function with similar flexibility) or `histplot` (an axes-level function for histograms).\n",
      "  warnings.warn(msg, FutureWarning)\n"
     ]
    },
    {
     "output_type": "stream",
     "name": "stdout",
     "text": [
      "--> saved to: /home/glassw/GITHUB/study-ntrk-resistance/notebooks/perses/perses_analysis_output/NTRK1/sorafenib/G595R_complex_work_dist.png\n",
      "--> plotting work trajs\n",
      "--> saved to: /home/glassw/GITHUB/study-ntrk-resistance/notebooks/perses/perses_analysis_output/NTRK1/sorafenib/G595R_apo_work_traj.png\n",
      "--> plotting work distrib\n"
     ]
    },
    {
     "output_type": "stream",
     "name": "stderr",
     "text": [
      "/home/glassw/miniconda/envs/perses_dev/lib/python3.7/site-packages/seaborn/distributions.py:2551: FutureWarning: `distplot` is a deprecated function and will be removed in a future version. Please adapt your code to use either `displot` (a figure-level function with similar flexibility) or `histplot` (an axes-level function for histograms).\n",
      "  warnings.warn(msg, FutureWarning)\n",
      "/home/glassw/miniconda/envs/perses_dev/lib/python3.7/site-packages/seaborn/distributions.py:2551: FutureWarning: `distplot` is a deprecated function and will be removed in a future version. Please adapt your code to use either `displot` (a figure-level function with similar flexibility) or `histplot` (an axes-level function for histograms).\n",
      "  warnings.warn(msg, FutureWarning)\n"
     ]
    },
    {
     "output_type": "stream",
     "name": "stdout",
     "text": [
      "--> saved to: /home/glassw/GITHUB/study-ntrk-resistance/notebooks/perses/perses_analysis_output/NTRK1/sorafenib/G595R_apo_work_dist.png\n",
      "--> complex_dg: -268.7974691531979\n",
      "--> apo dg: 0.0\n"
     ]
    },
    {
     "output_type": "display_data",
     "data": {
      "text/plain": [
       "HBox(children=(HTML(value=''), FloatProgress(value=0.0), HTML(value='')))"
      ],
      "application/vnd.jupyter.widget-view+json": {
       "version_major": 2,
       "version_minor": 0,
       "model_id": "0532d5599ad94319ba27b1efa1423ed2"
      }
     },
     "metadata": {}
    },
    {
     "output_type": "stream",
     "name": "stdout",
     "text": [
      "\n",
      "(100, 1251)\n",
      "(100, 1251)\n",
      "--> subtracting offset\n",
      "--> computing dg, ddg\n",
      "--> subtracting offset\n",
      "--> computing dg, ddg\n",
      "--> plotting work trajs\n",
      "--> saved to: /home/glassw/GITHUB/study-ntrk-resistance/notebooks/perses/perses_analysis_output/NTRK1/sorafenib/G667C_complex_work_traj.png\n",
      "--> plotting work distrib\n"
     ]
    },
    {
     "output_type": "stream",
     "name": "stderr",
     "text": [
      "/home/glassw/miniconda/envs/perses_dev/lib/python3.7/site-packages/seaborn/distributions.py:2551: FutureWarning: `distplot` is a deprecated function and will be removed in a future version. Please adapt your code to use either `displot` (a figure-level function with similar flexibility) or `histplot` (an axes-level function for histograms).\n",
      "  warnings.warn(msg, FutureWarning)\n",
      "/home/glassw/miniconda/envs/perses_dev/lib/python3.7/site-packages/seaborn/distributions.py:2551: FutureWarning: `distplot` is a deprecated function and will be removed in a future version. Please adapt your code to use either `displot` (a figure-level function with similar flexibility) or `histplot` (an axes-level function for histograms).\n",
      "  warnings.warn(msg, FutureWarning)\n"
     ]
    },
    {
     "output_type": "stream",
     "name": "stdout",
     "text": [
      "--> saved to: /home/glassw/GITHUB/study-ntrk-resistance/notebooks/perses/perses_analysis_output/NTRK1/sorafenib/G667C_complex_work_dist.png\n",
      "--> plotting work trajs\n",
      "--> saved to: /home/glassw/GITHUB/study-ntrk-resistance/notebooks/perses/perses_analysis_output/NTRK1/sorafenib/G667C_apo_work_traj.png\n",
      "--> plotting work distrib\n"
     ]
    },
    {
     "output_type": "stream",
     "name": "stderr",
     "text": [
      "/home/glassw/miniconda/envs/perses_dev/lib/python3.7/site-packages/seaborn/distributions.py:2551: FutureWarning: `distplot` is a deprecated function and will be removed in a future version. Please adapt your code to use either `displot` (a figure-level function with similar flexibility) or `histplot` (an axes-level function for histograms).\n",
      "  warnings.warn(msg, FutureWarning)\n",
      "/home/glassw/miniconda/envs/perses_dev/lib/python3.7/site-packages/seaborn/distributions.py:2551: FutureWarning: `distplot` is a deprecated function and will be removed in a future version. Please adapt your code to use either `displot` (a figure-level function with similar flexibility) or `histplot` (an axes-level function for histograms).\n",
      "  warnings.warn(msg, FutureWarning)\n"
     ]
    },
    {
     "output_type": "stream",
     "name": "stdout",
     "text": [
      "--> saved to: /home/glassw/GITHUB/study-ntrk-resistance/notebooks/perses/perses_analysis_output/NTRK1/sorafenib/G667C_apo_work_dist.png\n",
      "--> complex_dg: 29.470400572820772\n",
      "--> apo dg: 27.545763995331892\n"
     ]
    },
    {
     "output_type": "display_data",
     "data": {
      "text/plain": [
       "<Figure size 432x288 with 0 Axes>"
      ]
     },
     "metadata": {}
    }
   ],
   "metadata": {}
  },
  {
   "cell_type": "code",
   "execution_count": 5,
   "source": [
    "def ic50_to_DG(ic50: float, s_conc: float = 375e-9, Km: float = 40e-6) -> float:\n",
    "    \"\"\"\n",
    "    Converts IC50 (in M units) to DG\n",
    "    Parameters\n",
    "    ----------\n",
    "    pIC50 : float\n",
    "        pIC50\n",
    "    s_conc : float, default=375E-9\n",
    "        Substrate concentration in M\n",
    "    Km : float, default=40E-6\n",
    "        Substrate concentration for half-maximal enzyme activity\n",
    "    Returns\n",
    "    -------\n",
    "    PointEstimate\n",
    "        Dimensionless free energy (in kT)\n",
    "    \"\"\"\n",
    "\n",
    "\n",
    "    if ic50 > 200e-6:\n",
    "        print(\"Expecting IC50 in M units. Please check.\")\n",
    "\n",
    "    Ki = ic50 / (1 + s_conc / Km)\n",
    "    return np.log(Ki)"
   ],
   "outputs": [],
   "metadata": {}
  },
  {
   "cell_type": "code",
   "execution_count": 6,
   "source": [
    "experimental_df = pd.read_csv('../../data/activities_for_htf.csv')\n",
    "experimental_df_ntrk1 = experimental_df[experimental_df['ntrk'] == 'NTRK1']"
   ],
   "outputs": [],
   "metadata": {}
  },
  {
   "cell_type": "code",
   "execution_count": 7,
   "source": [
    "# WT IC50s and errors\n",
    "ntrk1_laro_exp_ic50 = 0.9e-9\n",
    "ntrk1_laro_exp_ic50_err = 0.33e-9\n",
    "ntrk1_seli_exp_ic50 = 0.6e-9\n",
    "ntrk1_seli_exp_ic50_err = 0.1e-9\n",
    "ntrk1_repo_exp_ic50 = 0.533e-9\n",
    "ntrk1_repo_exp_ic50_err = 0.1e-9\n",
    "ntrk1_entr_exp_ic50 = 5.9e-9\n",
    "ntrk1_entr_exp_ic50_err = 0.1e-9\n",
    "\n",
    "\n",
    "experimental_df_ntrk1.insert(8, 'pseudo_exp_DG', None)\n",
    "experimental_df_ntrk1.insert(9, 'pseudo_exp_DDG', None)\n",
    "\n",
    "for i, row in experimental_df_ntrk1.iterrows():\n",
    "    tki = row['tki']\n",
    "    print(tki)\n",
    "\n",
    "    if tki == 'larotrectinib':\n",
    "        s_conc = 1e-6\n",
    "        if row['mutation'] == 'G595R':\n",
    "            Km = 6e-6\n",
    "        else:\n",
    "            Km = 51e-6\n",
    "\n",
    "        pseudo_dg = ic50_to_DG(row['IC50'] * 10 **-9, Km=Km, s_conc=s_conc) \n",
    "        experimental_df_ntrk1.at[i, 'pseudo_exp_DG'] = pseudo_dg * KT_KCALMOL\n",
    "        \n",
    "        pseudo_DDG = pseudo_dg - ic50_to_DG(ntrk1_laro_exp_ic50, Km=Km) # mutant - WT\n",
    "        experimental_df_ntrk1.at[i, 'pseudo_exp_DDG'] = pseudo_DDG * KT_KCALMOL\n",
    "\n",
    "\n",
    "    elif tki == 'selitrectinib':\n",
    "        s_conc = 1e-6\n",
    "        if row['mutation'] == 'G595R':\n",
    "            Km = 6e-6\n",
    "        else:\n",
    "            Km = 51e-6\n",
    "\n",
    "        pseudo_dg = ic50_to_DG(row['IC50'] * 10 **-9, Km=Km, s_conc=s_conc)\n",
    "        experimental_df_ntrk1.at[i, 'pseudo_exp_DG'] = pseudo_dg * KT_KCALMOL\n",
    "\n",
    "        pseudo_DDG = pseudo_dg - ic50_to_DG(ntrk1_seli_exp_ic50, Km=Km) # mutant - WT\n",
    "        experimental_df_ntrk1.at[i, 'pseudo_exp_DDG'] = pseudo_DDG * KT_KCALMOL\n",
    "\n",
    "    elif tki == 'repotrectinib':\n",
    "        s_conc = 10e-6\n",
    "        # if row['mutation'] == 'G595R':\n",
    "            # Km = 6e-6\n",
    "\n",
    "        pseudo_dg = ic50_to_DG(row['IC50'] * 10 **-9, s_conc=s_conc)\n",
    "        experimental_df_ntrk1.at[i, 'pseudo_exp_DG'] = pseudo_dg * KT_KCALMOL\n",
    "\n",
    "        pseudo_DDG = pseudo_dg - ic50_to_DG(ntrk1_repo_exp_ic50, s_conc=s_conc) # mutant - WT\n",
    "        experimental_df_ntrk1.at[i, 'pseudo_exp_DDG'] = pseudo_DDG * KT_KCALMOL\n",
    " \n",
    "    elif tki == 'entrectinib':\n",
    "            s_conc = 10e-6\n",
    "            # if row['mutation'] == 'G595R':\n",
    "                # Km = 6e-6\n",
    "            pseudo_dg = ic50_to_DG(row['IC50'] * 10 **-9)\n",
    "            experimental_df_ntrk1.at[i, 'pseudo_exp_DG'] = pseudo_dg * KT_KCALMOL\n",
    "\n",
    "            pseudo_DDG = pseudo_dg - ic50_to_DG(ntrk1_entr_exp_ic50)  # mutant - WT\n",
    "            experimental_df_ntrk1.at[i, 'pseudo_exp_DDG'] = pseudo_DDG * KT_KCALMOL\n"
   ],
   "outputs": [
    {
     "output_type": "stream",
     "name": "stdout",
     "text": [
      "larotrectinib\n",
      "larotrectinib\n",
      "selitrectinib\n",
      "selitrectinib\n",
      "repotrectinib\n",
      "entrectinib\n",
      "entrectinib\n"
     ]
    }
   ],
   "metadata": {}
  },
  {
   "cell_type": "code",
   "execution_count": 8,
   "source": [
    "experimental_df_ntrk1\n",
    "\n"
   ],
   "outputs": [
    {
     "output_type": "execute_result",
     "data": {
      "text/plain": [
       "    ntrk            tki                                             SMILES  \\\n",
       "0  NTRK1  larotrectinib  O=C(Nc1cnn2ccc(N3CCC[C@@H]3c3cc(F)ccc3F)nc12)N...   \n",
       "1  NTRK1  larotrectinib  O=C(Nc1cnn2ccc(N3CCC[C@@H]3c3cc(F)ccc3F)nc12)N...   \n",
       "2  NTRK1  selitrectinib  C[C@@H]1CCc2ncc(F)cc2[C@H]2CCCN2c2ccn3ncc(c3n2...   \n",
       "3  NTRK1  selitrectinib  C[C@@H]1CCc2ncc(F)cc2[C@H]2CCCN2c2ccn3ncc(c3n2...   \n",
       "4  NTRK1  repotrectinib  C[C@H]1CNC(=O)c2cnn3ccc(nc23)N[C@H](C)c2cc(F)c...   \n",
       "5  NTRK1    entrectinib                                                NaN   \n",
       "6  NTRK1    entrectinib                                                NaN   \n",
       "\n",
       "  mutation  resid from   to     IC50 pseudo_exp_DG pseudo_exp_DDG  \\\n",
       "0    G595R    595  GLY  ARG    69.00      -9.92211        2.53127   \n",
       "1    G667C    667  GLY  CYS    45.50        -10.09        2.33158   \n",
       "2    G595R    595  GLY  ARG     2.00      -12.0331       0.662006   \n",
       "3    G667C    667  GLY  CYS     9.80      -11.0053          1.658   \n",
       "4    G595R    595  GLY  ARG     2.67       -11.902       0.960603   \n",
       "5    G595R    595  GLY  ARG  1000.00      -8.24185        3.05998   \n",
       "6    G667C    667  GLY  CYS    61.53      -9.90408        1.39774   \n",
       "\n",
       "                            DOI  \n",
       "0  10.1158/2159-8290.CD-17-0507  \n",
       "1  10.1158/2159-8290.CD-17-0507  \n",
       "2  10.1158/2159-8290.CD-17-0507  \n",
       "3  10.1158/2159-8290.CD-17-0507  \n",
       "4  10.1158/2159-8290.CD-18-0484  \n",
       "5  10.1158/2159-8290.CD-15-0940  \n",
       "6                           NaN  "
      ],
      "text/html": [
       "<div>\n",
       "<style scoped>\n",
       "    .dataframe tbody tr th:only-of-type {\n",
       "        vertical-align: middle;\n",
       "    }\n",
       "\n",
       "    .dataframe tbody tr th {\n",
       "        vertical-align: top;\n",
       "    }\n",
       "\n",
       "    .dataframe thead th {\n",
       "        text-align: right;\n",
       "    }\n",
       "</style>\n",
       "<table border=\"1\" class=\"dataframe\">\n",
       "  <thead>\n",
       "    <tr style=\"text-align: right;\">\n",
       "      <th></th>\n",
       "      <th>ntrk</th>\n",
       "      <th>tki</th>\n",
       "      <th>SMILES</th>\n",
       "      <th>mutation</th>\n",
       "      <th>resid</th>\n",
       "      <th>from</th>\n",
       "      <th>to</th>\n",
       "      <th>IC50</th>\n",
       "      <th>pseudo_exp_DG</th>\n",
       "      <th>pseudo_exp_DDG</th>\n",
       "      <th>DOI</th>\n",
       "    </tr>\n",
       "  </thead>\n",
       "  <tbody>\n",
       "    <tr>\n",
       "      <th>0</th>\n",
       "      <td>NTRK1</td>\n",
       "      <td>larotrectinib</td>\n",
       "      <td>O=C(Nc1cnn2ccc(N3CCC[C@@H]3c3cc(F)ccc3F)nc12)N...</td>\n",
       "      <td>G595R</td>\n",
       "      <td>595</td>\n",
       "      <td>GLY</td>\n",
       "      <td>ARG</td>\n",
       "      <td>69.00</td>\n",
       "      <td>-9.92211</td>\n",
       "      <td>2.53127</td>\n",
       "      <td>10.1158/2159-8290.CD-17-0507</td>\n",
       "    </tr>\n",
       "    <tr>\n",
       "      <th>1</th>\n",
       "      <td>NTRK1</td>\n",
       "      <td>larotrectinib</td>\n",
       "      <td>O=C(Nc1cnn2ccc(N3CCC[C@@H]3c3cc(F)ccc3F)nc12)N...</td>\n",
       "      <td>G667C</td>\n",
       "      <td>667</td>\n",
       "      <td>GLY</td>\n",
       "      <td>CYS</td>\n",
       "      <td>45.50</td>\n",
       "      <td>-10.09</td>\n",
       "      <td>2.33158</td>\n",
       "      <td>10.1158/2159-8290.CD-17-0507</td>\n",
       "    </tr>\n",
       "    <tr>\n",
       "      <th>2</th>\n",
       "      <td>NTRK1</td>\n",
       "      <td>selitrectinib</td>\n",
       "      <td>C[C@@H]1CCc2ncc(F)cc2[C@H]2CCCN2c2ccn3ncc(c3n2...</td>\n",
       "      <td>G595R</td>\n",
       "      <td>595</td>\n",
       "      <td>GLY</td>\n",
       "      <td>ARG</td>\n",
       "      <td>2.00</td>\n",
       "      <td>-12.0331</td>\n",
       "      <td>0.662006</td>\n",
       "      <td>10.1158/2159-8290.CD-17-0507</td>\n",
       "    </tr>\n",
       "    <tr>\n",
       "      <th>3</th>\n",
       "      <td>NTRK1</td>\n",
       "      <td>selitrectinib</td>\n",
       "      <td>C[C@@H]1CCc2ncc(F)cc2[C@H]2CCCN2c2ccn3ncc(c3n2...</td>\n",
       "      <td>G667C</td>\n",
       "      <td>667</td>\n",
       "      <td>GLY</td>\n",
       "      <td>CYS</td>\n",
       "      <td>9.80</td>\n",
       "      <td>-11.0053</td>\n",
       "      <td>1.658</td>\n",
       "      <td>10.1158/2159-8290.CD-17-0507</td>\n",
       "    </tr>\n",
       "    <tr>\n",
       "      <th>4</th>\n",
       "      <td>NTRK1</td>\n",
       "      <td>repotrectinib</td>\n",
       "      <td>C[C@H]1CNC(=O)c2cnn3ccc(nc23)N[C@H](C)c2cc(F)c...</td>\n",
       "      <td>G595R</td>\n",
       "      <td>595</td>\n",
       "      <td>GLY</td>\n",
       "      <td>ARG</td>\n",
       "      <td>2.67</td>\n",
       "      <td>-11.902</td>\n",
       "      <td>0.960603</td>\n",
       "      <td>10.1158/2159-8290.CD-18-0484</td>\n",
       "    </tr>\n",
       "    <tr>\n",
       "      <th>5</th>\n",
       "      <td>NTRK1</td>\n",
       "      <td>entrectinib</td>\n",
       "      <td>NaN</td>\n",
       "      <td>G595R</td>\n",
       "      <td>595</td>\n",
       "      <td>GLY</td>\n",
       "      <td>ARG</td>\n",
       "      <td>1000.00</td>\n",
       "      <td>-8.24185</td>\n",
       "      <td>3.05998</td>\n",
       "      <td>10.1158/2159-8290.CD-15-0940</td>\n",
       "    </tr>\n",
       "    <tr>\n",
       "      <th>6</th>\n",
       "      <td>NTRK1</td>\n",
       "      <td>entrectinib</td>\n",
       "      <td>NaN</td>\n",
       "      <td>G667C</td>\n",
       "      <td>667</td>\n",
       "      <td>GLY</td>\n",
       "      <td>CYS</td>\n",
       "      <td>61.53</td>\n",
       "      <td>-9.90408</td>\n",
       "      <td>1.39774</td>\n",
       "      <td>NaN</td>\n",
       "    </tr>\n",
       "  </tbody>\n",
       "</table>\n",
       "</div>"
      ]
     },
     "metadata": {},
     "execution_count": 8
    }
   ],
   "metadata": {}
  },
  {
   "cell_type": "code",
   "execution_count": 9,
   "source": [
    "df_filter = experimental_df_ntrk1[['ntrk', 'tki', 'mutation', 'IC50', 'pseudo_exp_DG', 'pseudo_exp_DDG']]"
   ],
   "outputs": [],
   "metadata": {}
  },
  {
   "cell_type": "code",
   "execution_count": 10,
   "source": [
    "df_filter"
   ],
   "outputs": [
    {
     "output_type": "execute_result",
     "data": {
      "text/plain": [
       "    ntrk            tki mutation     IC50 pseudo_exp_DG pseudo_exp_DDG\n",
       "0  NTRK1  larotrectinib    G595R    69.00      -9.92211        2.53127\n",
       "1  NTRK1  larotrectinib    G667C    45.50        -10.09        2.33158\n",
       "2  NTRK1  selitrectinib    G595R     2.00      -12.0331       0.662006\n",
       "3  NTRK1  selitrectinib    G667C     9.80      -11.0053          1.658\n",
       "4  NTRK1  repotrectinib    G595R     2.67       -11.902       0.960603\n",
       "5  NTRK1    entrectinib    G595R  1000.00      -8.24185        3.05998\n",
       "6  NTRK1    entrectinib    G667C    61.53      -9.90408        1.39774"
      ],
      "text/html": [
       "<div>\n",
       "<style scoped>\n",
       "    .dataframe tbody tr th:only-of-type {\n",
       "        vertical-align: middle;\n",
       "    }\n",
       "\n",
       "    .dataframe tbody tr th {\n",
       "        vertical-align: top;\n",
       "    }\n",
       "\n",
       "    .dataframe thead th {\n",
       "        text-align: right;\n",
       "    }\n",
       "</style>\n",
       "<table border=\"1\" class=\"dataframe\">\n",
       "  <thead>\n",
       "    <tr style=\"text-align: right;\">\n",
       "      <th></th>\n",
       "      <th>ntrk</th>\n",
       "      <th>tki</th>\n",
       "      <th>mutation</th>\n",
       "      <th>IC50</th>\n",
       "      <th>pseudo_exp_DG</th>\n",
       "      <th>pseudo_exp_DDG</th>\n",
       "    </tr>\n",
       "  </thead>\n",
       "  <tbody>\n",
       "    <tr>\n",
       "      <th>0</th>\n",
       "      <td>NTRK1</td>\n",
       "      <td>larotrectinib</td>\n",
       "      <td>G595R</td>\n",
       "      <td>69.00</td>\n",
       "      <td>-9.92211</td>\n",
       "      <td>2.53127</td>\n",
       "    </tr>\n",
       "    <tr>\n",
       "      <th>1</th>\n",
       "      <td>NTRK1</td>\n",
       "      <td>larotrectinib</td>\n",
       "      <td>G667C</td>\n",
       "      <td>45.50</td>\n",
       "      <td>-10.09</td>\n",
       "      <td>2.33158</td>\n",
       "    </tr>\n",
       "    <tr>\n",
       "      <th>2</th>\n",
       "      <td>NTRK1</td>\n",
       "      <td>selitrectinib</td>\n",
       "      <td>G595R</td>\n",
       "      <td>2.00</td>\n",
       "      <td>-12.0331</td>\n",
       "      <td>0.662006</td>\n",
       "    </tr>\n",
       "    <tr>\n",
       "      <th>3</th>\n",
       "      <td>NTRK1</td>\n",
       "      <td>selitrectinib</td>\n",
       "      <td>G667C</td>\n",
       "      <td>9.80</td>\n",
       "      <td>-11.0053</td>\n",
       "      <td>1.658</td>\n",
       "    </tr>\n",
       "    <tr>\n",
       "      <th>4</th>\n",
       "      <td>NTRK1</td>\n",
       "      <td>repotrectinib</td>\n",
       "      <td>G595R</td>\n",
       "      <td>2.67</td>\n",
       "      <td>-11.902</td>\n",
       "      <td>0.960603</td>\n",
       "    </tr>\n",
       "    <tr>\n",
       "      <th>5</th>\n",
       "      <td>NTRK1</td>\n",
       "      <td>entrectinib</td>\n",
       "      <td>G595R</td>\n",
       "      <td>1000.00</td>\n",
       "      <td>-8.24185</td>\n",
       "      <td>3.05998</td>\n",
       "    </tr>\n",
       "    <tr>\n",
       "      <th>6</th>\n",
       "      <td>NTRK1</td>\n",
       "      <td>entrectinib</td>\n",
       "      <td>G667C</td>\n",
       "      <td>61.53</td>\n",
       "      <td>-9.90408</td>\n",
       "      <td>1.39774</td>\n",
       "    </tr>\n",
       "  </tbody>\n",
       "</table>\n",
       "</div>"
      ]
     },
     "metadata": {},
     "execution_count": 10
    }
   ],
   "metadata": {}
  },
  {
   "cell_type": "code",
   "execution_count": 11,
   "source": [
    "def save_csv(experimental_dataframe, simulation_dataframe, tki, pdb_code, output_path):\n",
    "    import pandas as pd\n",
    "\n",
    "    exp_df = experimental_dataframe[experimental_dataframe['tki'] == tki]\n",
    "\n",
    "    sim_df = pd.DataFrame(simulation_dataframe).T\n",
    "    sim_df = sim_df * KT_KCALMOL # convert simulated results from kT to kcal / mol\n",
    "    sim_df.columns = [\"DDG (kcal / mol)\", \"dDDG (kcal / mol)\"]\n",
    "    \n",
    "    # get the experimental values from the tki dataframe\n",
    "    exp_DDG = [exp_df[exp_df['mutation'] == mutation]['pseudo_exp_DDG'].item() \n",
    "            for mutation in list(sim_df.index)]\n",
    "\n",
    "    sim_df['exp_DDG (kcal / mol)'] = exp_DDG \n",
    "    sim_df['|DDG - exp_DDG|'] = (sim_df['DDG (kcal / mol)'] - sim_df['exp_DDG (kcal / mol)']).abs()\n",
    "\n",
    "    #sim_df.to_csv(f'{output_path}{pdb_code}_{tki}_DDGs.csv')\n",
    "\n",
    "    return sim_df"
   ],
   "outputs": [],
   "metadata": {}
  },
  {
   "cell_type": "code",
   "execution_count": 12,
   "source": [
    "output_path = '/home/glassw/GITHUB/study-ntrk-resistance/notebooks/free_energy_calulcations/perses_analysis_output/NTRK1'\n",
    "test_laro_df = save_csv(experimental_df_ntrk1, ntrk1_df['larotrectinib'], 'larotrectinib', 'NTRK1', output_path=output_path)\n",
    "test_seli_df = save_csv(experimental_df_ntrk1, ntrk1_df['selitrectinib'], 'selitrectinib', 'NTRK1', output_path=output_path)\n",
    "test_repo_df = save_csv(experimental_df_ntrk1, ntrk1_df['repotrectinib'], 'repotrectinib', 'NTRK1', output_path=output_path)\n",
    "test_entr_df = save_csv(experimental_df_ntrk1, ntrk1_df['entrectinib'], 'entrectinib', 'NTRK1', output_path=output_path)"
   ],
   "outputs": [],
   "metadata": {}
  },
  {
   "cell_type": "code",
   "execution_count": 13,
   "source": [
    "import scipy\n",
    "from sklearn.metrics import mean_squared_error, mean_absolute_error\n",
    "\n",
    "def stats(true_sample, predicted_sample, statistic):\n",
    "    \n",
    "    if statistic == 'RMSE':\n",
    "            return np.sqrt(mean_squared_error(true_sample, predicted_sample))\n",
    "    elif statistic == 'MUE':\n",
    "        return mean_absolute_error(true_sample, predicted_sample)\n",
    "    elif statistic == 'R2':\n",
    "        slope, intercept, r_value, p_value, std_err = scipy.stats.linregress(true_sample, predicted_sample)\n",
    "        return r_value**2\n",
    "    elif statistic == 'rho':\n",
    "        return scipy.stats.pearsonr(true_sample, predicted_sample)[0]\n",
    "\n",
    "def make_plot(dataframe, target_name, extra_name='', title='', plot_stats=False, save=False, output_dir=None):\n",
    "\n",
    "    x = dataframe['exp_DDG (kcal / mol)'].values\n",
    "    y = dataframe['DDG (kcal / mol)'].values\n",
    "    yerr = dataframe['dDDG (kcal / mol)'].values\n",
    "    # xerr = dataframe['exp_dDDG (kcal / mol)'].values\n",
    "\n",
    "    from datetime import date\n",
    "    today = date.today()\n",
    "    figsize=5\n",
    "\n",
    "    fig, ax = plt.subplots(figsize=(figsize, figsize))\n",
    "\n",
    "\n",
    "    # aesthetics\n",
    "    font_size = 14\n",
    "    plt.rcParams['xtick.labelsize'] = font_size\n",
    "    plt.rcParams['ytick.labelsize'] = font_size\n",
    "    plt.rcParams['font.size'] = font_size\n",
    "    plt.subplots_adjust(left=0.2, right=0.7, bottom=0.2, top=0.7)\n",
    "\n",
    "\n",
    "    plt.xlabel('Experimental $\\Delta\\Delta$G (kcal / mol)')\n",
    "    plt.ylabel(r'Calculated $\\Delta\\Delta$G (kcal / mol)')\n",
    "\n",
    "    ax_min = min(min(x), min(y)) - 0.5\n",
    "    ax_max = max(max(x), max(y)) + 0.5\n",
    "    scale = [ax_min, ax_max]\n",
    "\n",
    "    plt.xlim(scale)\n",
    "    plt.ylim(scale)\n",
    "\n",
    "    # plots x-axis and y-axis\n",
    "    origins=True\n",
    "    if origins:\n",
    "        plt.plot([0, 0], scale, 'gray')\n",
    "        plt.plot(scale, [0, 0], 'gray')\n",
    "\n",
    "    # plots x=y line\n",
    "    plt.plot(scale, scale, 'k:')\n",
    "    guidelines=True\n",
    "\n",
    "    if guidelines:\n",
    "        small_dist = 0.5\n",
    "        # plots grey region around x=y line\n",
    "        plt.fill_between(scale, [ax_min - small_dist, ax_max - small_dist],\n",
    "                        [ax_min + small_dist, ax_max + small_dist],\n",
    "                        color='grey', alpha=0.2)\n",
    "        plt.fill_between(scale, [ax_min - small_dist * 2, ax_max - small_dist * 2],\n",
    "                        [ax_min + small_dist * 2, ax_max + small_dist * 2],\n",
    "                        color='grey', alpha=0.2)\n",
    "    # actual plotting\n",
    "    cm = plt.get_cmap('coolwarm')\n",
    "\n",
    "    #if color is None:\n",
    "    color = np.abs(x-y)\n",
    "    # 2.372 kcal / mol = 4 RT\n",
    "    color = cm(color / 2.372)\n",
    "\n",
    "    plt.errorbar(x, y, yerr=yerr, color='gray', linewidth=0., elinewidth=2., zorder=1)\n",
    "    plt.scatter(x, y, color=color, s=10, marker='o', zorder=2)\n",
    "\n",
    "    # # stats and title\n",
    "    if plot_stats:\n",
    "        statistics_string = ''\n",
    "        for statistic in ['RMSE', 'MUE', 'R2', 'rho']:\n",
    "            s = np.round(stats(x, y, statistic=statistic), 2)\n",
    "            string = f\"{statistic}: {s}\\n\"\n",
    "            statistics_string += string\n",
    "\n",
    "        long_title = f'{title} \\n {target_name} (N = {len(y)})\\n {statistics_string} \\n timestamp: {today.strftime(\"%d %B, %Y\")}'\n",
    "        plt.title(long_title, fontsize=12, loc='right', horizontalalignment='right', family='monospace')\n",
    "\n",
    "    else:\n",
    "        long_title = f'{title} \\n {target_name} (N = {len(y)})\\n timestamp: {today.strftime(\"%d %B, %Y\")}'\n",
    "        plt.title(long_title, fontsize=12, loc='right', horizontalalignment='right', family='monospace')\n",
    "\n",
    "    if save:\n",
    "        print(\"saving figure...\")\n",
    "        plt.savefig(f'{output_dir}{target_name}_plot{extra_name}_exp_vs_calc.png', dpi=300)"
   ],
   "outputs": [],
   "metadata": {}
  },
  {
   "cell_type": "code",
   "execution_count": 14,
   "source": [
    "make_plot(\n",
    "    dataframe=test_laro_df,\n",
    "    target_name=\"NTRK1_larotrectinib\",\n",
    "    extra_name='flat',\n",
    "    title=''\n",
    "     )"
   ],
   "outputs": [
    {
     "output_type": "display_data",
     "data": {
      "text/plain": [
       "<Figure size 360x360 with 1 Axes>"
      ],
      "image/png": "[encoded data removed]"
     },
     "metadata": {
      "needs_background": "light"
     }
    }
   ],
   "metadata": {}
  },
  {
   "cell_type": "code",
   "execution_count": 15,
   "source": [
    "make_plot(\n",
    "    dataframe=test_seli_df,\n",
    "    target_name=\"NTRK1_selitrectinib\",\n",
    "    extra_name='flat',\n",
    "    title=''\n",
    "     )"
   ],
   "outputs": [
    {
     "output_type": "display_data",
     "data": {
      "text/plain": [
       "<Figure size 360x360 with 1 Axes>"
      ],
      "image/png": "[encoded data removed]"
     },
     "metadata": {
      "needs_background": "light"
     }
    }
   ],
   "metadata": {}
  },
  {
   "cell_type": "code",
   "execution_count": 16,
   "source": [
    "make_plot(\n",
    "    dataframe=test_repo_df,\n",
    "    target_name=\"NTRK1_repotrectinib\",\n",
    "    extra_name='flat',\n",
    "    title=''\n",
    "     )"
   ],
   "outputs": [
    {
     "output_type": "display_data",
     "data": {
      "text/plain": [
       "<Figure size 360x360 with 1 Axes>"
      ],
      "image/png": "[encoded data removed]"
     },
     "metadata": {
      "needs_background": "light"
     }
    }
   ],
   "metadata": {}
  },
  {
   "cell_type": "code",
   "execution_count": 17,
   "source": [
    "make_plot(\n",
    "    dataframe=test_entr_df,\n",
    "    target_name=\"NTRK1_entrectinib\",\n",
    "    extra_name='flat',\n",
    "    title='',\n",
    "     )"
   ],
   "outputs": [
    {
     "output_type": "display_data",
     "data": {
      "text/plain": [
       "<Figure size 360x360 with 1 Axes>"
      ],
      "image/png": "[encoded data removed]"
     },
     "metadata": {
      "needs_background": "light"
     }
    }
   ],
   "metadata": {}
  },
  {
   "cell_type": "code",
   "execution_count": 18,
   "source": [
    "new_df = pd.concat([test_laro_df, test_seli_df, test_repo_df, test_entr_df])"
   ],
   "outputs": [],
   "metadata": {}
  },
  {
   "cell_type": "code",
   "execution_count": 24,
   "source": [
    "make_plot(\n",
    "    dataframe=new_df,\n",
    "    target_name=\"NTRK1_all_TKIs\",\n",
    "    extra_name='flat',\n",
    "    title='',\n",
    "    plot_stats=True,\n",
    "    save=True,\n",
    "    output_dir='/home/glassw/GITHUB/study-ntrk-resistance/notebooks/free_energy_calculations/perses_analysis_output/NTRK1/'\n",
    "     )"
   ],
   "outputs": [
    {
     "output_type": "stream",
     "name": "stdout",
     "text": [
      "saving figure...\n"
     ]
    },
    {
     "output_type": "display_data",
     "data": {
      "text/plain": [
       "<Figure size 360x360 with 1 Axes>"
      ],
      "image/png": "[encoded data removed]"
     },
     "metadata": {
      "needs_background": "light"
     }
    }
   ],
   "metadata": {}
  },
  {
   "cell_type": "code",
   "execution_count": 20,
   "source": [
    "test_laro_df.insert(0, 'tki', \"larotrectinib\")\n",
    "test_seli_df.insert(0, 'tki', \"selitrectinib\")\n",
    "test_repo_df.insert(0, 'tki', \"repotrectinib\")\n",
    "test_entr_df.insert(0, 'tki', \"entrectinib\")"
   ],
   "outputs": [],
   "metadata": {}
  },
  {
   "cell_type": "code",
   "execution_count": 21,
   "source": [
    "new_df2 = pd.concat([test_laro_df, test_seli_df, test_repo_df, test_entr_df])"
   ],
   "outputs": [],
   "metadata": {}
  },
  {
   "cell_type": "code",
   "execution_count": 23,
   "source": [
    "output_dir='/home/glassw/GITHUB/study-ntrk-resistance/notebooks/free_energy_calculations/perses_analysis_output/NTRK1/'\n",
    "new_df2.to_csv(f'{output_dir}NTRK1_resistance_results.csv')"
   ],
   "outputs": [],
   "metadata": {}
  },
  {
   "cell_type": "code",
   "execution_count": null,
   "source": [],
   "outputs": [],
   "metadata": {}
  }
 ],
 "metadata": {
  "kernelspec": {
   "display_name": "Python 3.7.8 64-bit ('perses_dev': conda)",
   "language": "python",
   "name": "python37864bitpersesdevconda615c3c1fadff49c7bf4c24f42695663c"
  },
  "language_info": {
   "codemirror_mode": {
    "name": "ipython",
    "version": 3
   },
   "file_extension": ".py",
   "mimetype": "text/x-python",
   "name": "python",
   "nbconvert_exporter": "python",
   "pygments_lexer": "ipython3",
   "version": "3.7.8"
  }
 },
 "nbformat": 4,
 "nbformat_minor": 2
}