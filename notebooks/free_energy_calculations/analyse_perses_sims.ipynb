{
 "metadata": {
  "language_info": {
   "codemirror_mode": {
    "name": "ipython",
    "version": 3
   },
   "file_extension": ".py",
   "mimetype": "text/x-python",
   "name": "python",
   "nbconvert_exporter": "python",
   "pygments_lexer": "ipython3",
   "version": "3.7.8-final"
  },
  "orig_nbformat": 2,
  "kernelspec": {
   "name": "python3",
   "display_name": "Python 3"
  }
 },
 "nbformat": 4,
 "nbformat_minor": 2,
 "cells": [
  {
   "cell_type": "code",
   "execution_count": 1,
   "metadata": {},
   "outputs": [],
   "source": [
    "from perses.analysis.analysis import Analysis\n",
    "import numpy as np\n",
    "import seaborn as sns\n",
    "import matplotlib.pyplot as plt\n",
    "import pymbar\n",
    "%matplotlib inline\n",
    "import os\n",
    "import itertools\n",
    "from tqdm import notebook as tqdm_notebook\n",
    "import pandas as pd\n",
    "\n",
    "\n",
    "from simtk.openmm import unit\n",
    "from openmmtools.constants import kB\n",
    "KT_KCALMOL = kB * 300 * unit.kelvin / unit.kilocalories_per_mole"
   ]
  },
  {
   "cell_type": "code",
   "execution_count": 2,
   "metadata": {},
   "outputs": [],
   "source": [
    "def subtract_offset(forward_work, reverse_work):\n",
    "\n",
    "    print(\"--> subtracting offset\")\n",
    "    \n",
    "    forward_work_offset = []\n",
    "    for cycle in forward_work:\n",
    "        forward_work_offset.append(np.array([val - cycle[0] for val in cycle[1:]]))\n",
    "    forward_work_offset = np.array(forward_work_offset)\n",
    "\n",
    "    reverse_work_offset = []\n",
    "    for cycle in reverse_work:\n",
    "        reverse_work_offset.append(np.array([val - cycle[0] for val in cycle[1:]]))\n",
    "    reverse_work_offset = np.array(reverse_work_offset)\n",
    "    \n",
    "    return forward_work_offset, reverse_work_offset\n",
    "\n",
    "\n",
    "def analyse(forward_accumulated, reverse_accumulated):\n",
    "    \n",
    "    print(\"--> computing dg, ddg\")\n",
    "    dg, ddg = pymbar.bar.BAR(forward_accumulated, reverse_accumulated)\n",
    "    \n",
    "    return dg, ddg\n",
    "\n",
    "\n",
    "def plot_works(forward_work_offset,\n",
    "               reverse_work_offset,\n",
    "               dg,\n",
    "               ddg,\n",
    "               phase,\n",
    "               mutation,\n",
    "               title,\n",
    "               save=False,\n",
    "               output_dir=None):\n",
    "    \n",
    "    CB_color_cycle = ['#377eb8', '#ff7f00', '#4daf4a',\n",
    "                  '#f781bf', '#a65628', '#984ea3',\n",
    "                  '#999999', '#e41a1c', '#dede00']\n",
    "    \n",
    "    # Plot work trajectories\n",
    "    # TODO: automatically determine the x axis -> this is a bit of a hack at the moment\n",
    "    print(\"--> plotting work trajs\")\n",
    "    \n",
    "    for i, cycle in enumerate(forward_work_offset):\n",
    "        \n",
    "        x = [(j+1)*12.1e-4 for j in range(len(list(cycle)))]\n",
    "        y = cycle\n",
    "        if i==0:\n",
    "            plt.plot(x, y, color=CB_color_cycle[0], label='forward')\n",
    "        else:\n",
    "            plt.plot(x, y, color=CB_color_cycle[0])\n",
    "        \n",
    "    for i, cycle in enumerate(reverse_work_offset):\n",
    "        \n",
    "        x = [(j+1)*12.1e-4 for j in range(len(list(cycle)))]\n",
    "        y = -cycle\n",
    "        if i==0:\n",
    "            plt.plot(x, y, color=CB_color_cycle[1], label='reverse')\n",
    "        else:\n",
    "            plt.plot(x, y, color=CB_color_cycle[1])\n",
    "        \n",
    "    plt.xlabel(\"$t_{neq}$ (ns)\")\n",
    "    plt.ylabel(\"work (kT)\")\n",
    "    plt.title(f\"{title} {phase}\")\n",
    "    plt.legend(loc='best')\n",
    "    if save:\n",
    "        if output_dir is not None:\n",
    "            plt.savefig(os.path.join(output_dir, f\"{mutation}_{phase}_work_traj.png\"), dpi=500)\n",
    "            print(f\"--> saved to: {os.path.join(output_dir, f'{mutation}_{phase}_work_traj.png')}\")\n",
    "        else:\n",
    "            print(\"--> No output_dir specified!\")\n",
    "    else:\n",
    "        plt.show()\n",
    "    plt.clf()\n",
    "    \n",
    "    # Plot work distributions\n",
    "    print(\"--> plotting work distrib\")\n",
    "    \n",
    "    accumulated_forward = [cycle[-1] for cycle in forward_work_offset]\n",
    "    accumulated_reverse = [-cycle[-1] for cycle in reverse_work_offset]\n",
    "    sns.distplot(accumulated_forward, color=CB_color_cycle[0], label='forward')\n",
    "    sns.distplot(accumulated_reverse, color=CB_color_cycle[1], label='reverse')\n",
    "    plt.axvline(dg)\n",
    "    plt.axvline(dg + ddg, linestyle='dashed')\n",
    "    plt.axvline(dg - ddg, linestyle='dashed')\n",
    "    plt.xlabel(\"work (kT)\")\n",
    "    plt.ylabel(\"p(w)\")\n",
    "    plt.title(f\"{title} {phase}\")\n",
    "    plt.legend(loc='best')\n",
    "    if save:\n",
    "        if output_dir is not None:\n",
    "            plt.savefig(os.path.join(output_dir, f\"{mutation}_{phase}_work_dist.png\"), dpi=500)\n",
    "            print(f\"--> saved to: {os.path.join(output_dir, f'{mutation}_{phase}_work_dist.png')}\")\n",
    "        else:\n",
    "            print(\"--> No output_dir specified!\")\n",
    "    else:\n",
    "        plt.show()\n",
    "    plt.clf()"
   ]
  },
  {
   "cell_type": "code",
   "execution_count": 17,
   "metadata": {},
   "outputs": [],
   "source": [
    "# ntrk1 mutations\n",
    "ntrk1_mutations = {\n",
    "    'larotrectinib': ['G595R', 'G667C'],\n",
    "    'selitrectinib': ['G595R', 'G667C'],\n",
    "    'repotrectinib': ['G595R']\n",
    "    }\n",
    "\n",
    "# ntrk2 mutations\n",
    "ntrk2_mutations = {\n",
    "    'repotrectinib': ['G639R']\n",
    "    }\n",
    "\n",
    "# ntrk3 mutations\n",
    "ntrk3_mutations = {\n",
    "    'larotrectinib': ['G623R', 'G696A'],\n",
    "    'selitrectinib': ['G623R', 'G696A'],\n",
    "    'repotrectinib': ['G623R']\n",
    "    }\n",
    "\n",
    "ntrk_mutations = {\n",
    "    'ntrk1': ntrk1_mutations,\n",
    "    'ntrk2': ntrk2_mutations,\n",
    "    'ntrk3': ntrk3_mutations,\n",
    "    }"
   ]
  },
  {
   "cell_type": "code",
   "execution_count": 21,
   "metadata": {},
   "outputs": [
    {
     "output_type": "display_data",
     "data": {
      "text/plain": "HBox(children=(HTML(value=''), FloatProgress(value=0.0), HTML(value='')))",
      "application/vnd.jupyter.widget-view+json": {
       "version_major": 2,
       "version_minor": 0,
       "model_id": "18feade7d4cd4307b7b8ffbc7e560221"
      }
     },
     "metadata": {}
    },
    {
     "output_type": "stream",
     "name": "stdout",
     "text": [
      "\n",
      "(100, 1251)\n",
      "(100, 1251)\n",
      "--> subtracting offset\n",
      "--> computing dg, ddg\n",
      "--> subtracting offset\n",
      "--> computing dg, ddg\n",
      "--> plotting work trajs\n",
      "--> saved to: /lila/home/glassw/GITHUB/study-ntrk-resistance/notebooks/perses/perses_analysis_output/ntrk1/larotrectinib/G595R_complex_work_traj.png\n",
      "--> plotting work distrib\n",
      "--> saved to: /lila/home/glassw/GITHUB/study-ntrk-resistance/notebooks/perses/perses_analysis_output/ntrk1/larotrectinib/G595R_complex_work_dist.png\n",
      "--> plotting work trajs\n",
      "--> saved to: /lila/home/glassw/GITHUB/study-ntrk-resistance/notebooks/perses/perses_analysis_output/ntrk1/larotrectinib/G595R_apo_work_traj.png\n",
      "--> plotting work distrib\n",
      "--> saved to: /lila/home/glassw/GITHUB/study-ntrk-resistance/notebooks/perses/perses_analysis_output/ntrk1/larotrectinib/G595R_apo_work_dist.png\n",
      "--> complex_dg: 219.16239864340344\n",
      "--> apo dg: 209.4647079732417\n"
     ]
    },
    {
     "output_type": "display_data",
     "data": {
      "text/plain": "HBox(children=(HTML(value=''), FloatProgress(value=0.0), HTML(value='')))",
      "application/vnd.jupyter.widget-view+json": {
       "version_major": 2,
       "version_minor": 0,
       "model_id": "c5c6a2f658a6416c93ce0296014d4042"
      }
     },
     "metadata": {}
    },
    {
     "output_type": "stream",
     "name": "stdout",
     "text": [
      "\n",
      "(100, 1251)\n",
      "(100, 1251)\n",
      "--> subtracting offset\n",
      "--> computing dg, ddg\n",
      "--> subtracting offset\n",
      "--> computing dg, ddg\n",
      "--> plotting work trajs\n",
      "--> saved to: /lila/home/glassw/GITHUB/study-ntrk-resistance/notebooks/perses/perses_analysis_output/ntrk1/larotrectinib/G667C_complex_work_traj.png\n",
      "--> plotting work distrib\n",
      "--> saved to: /lila/home/glassw/GITHUB/study-ntrk-resistance/notebooks/perses/perses_analysis_output/ntrk1/larotrectinib/G667C_complex_work_dist.png\n",
      "--> plotting work trajs\n",
      "--> saved to: /lila/home/glassw/GITHUB/study-ntrk-resistance/notebooks/perses/perses_analysis_output/ntrk1/larotrectinib/G667C_apo_work_traj.png\n",
      "--> plotting work distrib\n",
      "--> saved to: /lila/home/glassw/GITHUB/study-ntrk-resistance/notebooks/perses/perses_analysis_output/ntrk1/larotrectinib/G667C_apo_work_dist.png\n",
      "--> complex_dg: 22.443118131730984\n",
      "--> apo dg: 19.12261329113099\n"
     ]
    },
    {
     "output_type": "display_data",
     "data": {
      "text/plain": "HBox(children=(HTML(value=''), FloatProgress(value=0.0), HTML(value='')))",
      "application/vnd.jupyter.widget-view+json": {
       "version_major": 2,
       "version_minor": 0,
       "model_id": "4516dcddab6c428ea063d3fe4fb2df5e"
      }
     },
     "metadata": {}
    },
    {
     "output_type": "stream",
     "name": "stdout",
     "text": [
      "\n",
      "(44, 1251)\n",
      "(79, 1251)\n",
      "--> subtracting offset\n",
      "--> computing dg, ddg\n",
      "--> subtracting offset\n",
      "--> computing dg, ddg\n",
      "--> plotting work trajs\n",
      "--> saved to: /lila/home/glassw/GITHUB/study-ntrk-resistance/notebooks/perses/perses_analysis_output/ntrk1/selitrectinib/G595R_complex_work_traj.png\n",
      "--> plotting work distrib\n",
      "--> saved to: /lila/home/glassw/GITHUB/study-ntrk-resistance/notebooks/perses/perses_analysis_output/ntrk1/selitrectinib/G595R_complex_work_dist.png\n",
      "--> plotting work trajs\n",
      "--> saved to: /lila/home/glassw/GITHUB/study-ntrk-resistance/notebooks/perses/perses_analysis_output/ntrk1/selitrectinib/G595R_apo_work_traj.png\n",
      "--> plotting work distrib\n",
      "--> saved to: /lila/home/glassw/GITHUB/study-ntrk-resistance/notebooks/perses/perses_analysis_output/ntrk1/selitrectinib/G595R_apo_work_dist.png\n",
      "--> complex_dg: 214.49083406418234\n",
      "--> apo dg: 212.8943842233969\n"
     ]
    },
    {
     "output_type": "display_data",
     "data": {
      "text/plain": "HBox(children=(HTML(value=''), FloatProgress(value=0.0), HTML(value='')))",
      "application/vnd.jupyter.widget-view+json": {
       "version_major": 2,
       "version_minor": 0,
       "model_id": "10aaa34eba574ebcb1fc57617069c1dd"
      }
     },
     "metadata": {}
    },
    {
     "output_type": "stream",
     "name": "stdout",
     "text": [
      "\n--> dir G667C has at least one phase without data\n"
     ]
    },
    {
     "output_type": "display_data",
     "data": {
      "text/plain": "HBox(children=(HTML(value=''), FloatProgress(value=0.0), HTML(value='')))",
      "application/vnd.jupyter.widget-view+json": {
       "version_major": 2,
       "version_minor": 0,
       "model_id": "3a28179b013a4c3e8abadff2648fb32c"
      }
     },
     "metadata": {}
    },
    {
     "output_type": "stream",
     "name": "stdout",
     "text": [
      "\n--> dir G595R has at least one phase without data\n"
     ]
    },
    {
     "output_type": "display_data",
     "data": {
      "text/plain": "HBox(children=(HTML(value=''), FloatProgress(value=0.0), HTML(value='')))",
      "application/vnd.jupyter.widget-view+json": {
       "version_major": 2,
       "version_minor": 0,
       "model_id": "2a448249982f4bb789a0eb8ba33a14fe"
      }
     },
     "metadata": {}
    },
    {
     "output_type": "stream",
     "name": "stdout",
     "text": [
      "\n--> dir G595R has at least one phase without data\n"
     ]
    },
    {
     "output_type": "display_data",
     "data": {
      "text/plain": "HBox(children=(HTML(value=''), FloatProgress(value=0.0), HTML(value='')))",
      "application/vnd.jupyter.widget-view+json": {
       "version_major": 2,
       "version_minor": 0,
       "model_id": "31b4b7378f2c44d38b939a8d720576c7"
      }
     },
     "metadata": {}
    },
    {
     "output_type": "stream",
     "name": "stdout",
     "text": [
      "\n",
      "(100, 1251)\n",
      "(100, 1251)\n",
      "--> subtracting offset\n",
      "--> computing dg, ddg\n",
      "--> subtracting offset\n",
      "--> computing dg, ddg\n",
      "--> plotting work trajs\n",
      "--> saved to: /lila/home/glassw/GITHUB/study-ntrk-resistance/notebooks/perses/perses_analysis_output/ntrk3/larotrectinib/G595R_complex_work_traj.png\n",
      "--> plotting work distrib\n",
      "--> saved to: /lila/home/glassw/GITHUB/study-ntrk-resistance/notebooks/perses/perses_analysis_output/ntrk3/larotrectinib/G595R_complex_work_dist.png\n",
      "--> plotting work trajs\n",
      "--> saved to: /lila/home/glassw/GITHUB/study-ntrk-resistance/notebooks/perses/perses_analysis_output/ntrk3/larotrectinib/G595R_apo_work_traj.png\n",
      "--> plotting work distrib\n",
      "--> saved to: /lila/home/glassw/GITHUB/study-ntrk-resistance/notebooks/perses/perses_analysis_output/ntrk3/larotrectinib/G595R_apo_work_dist.png\n",
      "--> complex_dg: 219.16239864340344\n",
      "--> apo dg: 209.4647079732417\n"
     ]
    },
    {
     "output_type": "display_data",
     "data": {
      "text/plain": "HBox(children=(HTML(value=''), FloatProgress(value=0.0), HTML(value='')))",
      "application/vnd.jupyter.widget-view+json": {
       "version_major": 2,
       "version_minor": 0,
       "model_id": "828edfaa234b45af846b153dde7270f7"
      }
     },
     "metadata": {}
    },
    {
     "output_type": "stream",
     "name": "stdout",
     "text": [
      "\n",
      "(100, 1251)\n",
      "(100, 1251)\n",
      "--> subtracting offset\n",
      "--> computing dg, ddg\n",
      "--> subtracting offset\n",
      "--> computing dg, ddg\n",
      "--> plotting work trajs\n",
      "--> saved to: /lila/home/glassw/GITHUB/study-ntrk-resistance/notebooks/perses/perses_analysis_output/ntrk3/larotrectinib/G667C_complex_work_traj.png\n",
      "--> plotting work distrib\n",
      "--> saved to: /lila/home/glassw/GITHUB/study-ntrk-resistance/notebooks/perses/perses_analysis_output/ntrk3/larotrectinib/G667C_complex_work_dist.png\n",
      "--> plotting work trajs\n",
      "--> saved to: /lila/home/glassw/GITHUB/study-ntrk-resistance/notebooks/perses/perses_analysis_output/ntrk3/larotrectinib/G667C_apo_work_traj.png\n",
      "--> plotting work distrib\n",
      "--> saved to: /lila/home/glassw/GITHUB/study-ntrk-resistance/notebooks/perses/perses_analysis_output/ntrk3/larotrectinib/G667C_apo_work_dist.png\n",
      "--> complex_dg: 22.443118131730984\n",
      "--> apo dg: 19.12261329113099\n"
     ]
    },
    {
     "output_type": "display_data",
     "data": {
      "text/plain": "HBox(children=(HTML(value=''), FloatProgress(value=0.0), HTML(value='')))",
      "application/vnd.jupyter.widget-view+json": {
       "version_major": 2,
       "version_minor": 0,
       "model_id": "79bdc86a2d474eaeae2fc12de72718bf"
      }
     },
     "metadata": {}
    },
    {
     "output_type": "stream",
     "name": "stdout",
     "text": [
      "\n",
      "(44, 1251)\n",
      "(79, 1251)\n",
      "--> subtracting offset\n",
      "--> computing dg, ddg\n",
      "--> subtracting offset\n",
      "--> computing dg, ddg\n",
      "--> plotting work trajs\n",
      "--> saved to: /lila/home/glassw/GITHUB/study-ntrk-resistance/notebooks/perses/perses_analysis_output/ntrk3/selitrectinib/G595R_complex_work_traj.png\n",
      "--> plotting work distrib\n",
      "--> saved to: /lila/home/glassw/GITHUB/study-ntrk-resistance/notebooks/perses/perses_analysis_output/ntrk3/selitrectinib/G595R_complex_work_dist.png\n",
      "--> plotting work trajs\n",
      "--> saved to: /lila/home/glassw/GITHUB/study-ntrk-resistance/notebooks/perses/perses_analysis_output/ntrk3/selitrectinib/G595R_apo_work_traj.png\n",
      "--> plotting work distrib\n",
      "--> saved to: /lila/home/glassw/GITHUB/study-ntrk-resistance/notebooks/perses/perses_analysis_output/ntrk3/selitrectinib/G595R_apo_work_dist.png\n",
      "--> complex_dg: 214.49083406418234\n",
      "--> apo dg: 212.8943842233969\n"
     ]
    },
    {
     "output_type": "display_data",
     "data": {
      "text/plain": "HBox(children=(HTML(value=''), FloatProgress(value=0.0), HTML(value='')))",
      "application/vnd.jupyter.widget-view+json": {
       "version_major": 2,
       "version_minor": 0,
       "model_id": "b2d0b673b1bd4b50b27a9ae0e47f126f"
      }
     },
     "metadata": {}
    },
    {
     "output_type": "stream",
     "name": "stdout",
     "text": [
      "\n--> dir G667C has at least one phase without data\n"
     ]
    },
    {
     "output_type": "display_data",
     "data": {
      "text/plain": "HBox(children=(HTML(value=''), FloatProgress(value=0.0), HTML(value='')))",
      "application/vnd.jupyter.widget-view+json": {
       "version_major": 2,
       "version_minor": 0,
       "model_id": "35c9f57afe444a638595b88633e2e7ab"
      }
     },
     "metadata": {}
    },
    {
     "output_type": "stream",
     "name": "stdout",
     "text": [
      "\n--> dir G595R has at least one phase without data\n"
     ]
    },
    {
     "output_type": "display_data",
     "data": {
      "text/plain": "<Figure size 432x288 with 0 Axes>"
     },
     "metadata": {}
    }
   ],
   "source": [
    "for ntrk in ntrk_mutations:\n",
    "\n",
    "    for tki in ntrk_mutations[ntrk]:\n",
    "\n",
    "        for mutation in ntrk1_mutations[tki]:\n",
    "\n",
    "            # Load and combine arrays\n",
    "            forward_complex_arrays = []\n",
    "            reverse_complex_arrays = []\n",
    "            forward_apo_arrays = []\n",
    "            reverse_apo_arrays = []\n",
    "\n",
    "            for j in tqdm_notebook.tqdm(range(100)):\n",
    "\n",
    "                #NTRK1_selitrectinib_G595R_apo_46_forward.npy\n",
    "                forward_complex_path = f'/data/chodera/glassw/kinoml/NTRK/run_neq_WithTraj/NTRK1/{mutation}/NTRK1_{tki}_{mutation}_complex_{j}_forward.npy'\n",
    "                reverse_complex_path = f'/data/chodera/glassw/kinoml/NTRK/run_neq_WithTraj/NTRK1/{mutation}/NTRK1_{tki}_{mutation}_complex_{j}_reverse.npy'\n",
    "                forward_apo_path = f'/data/chodera/glassw/kinoml/NTRK/run_neq_WithTraj/NTRK1/{mutation}/NTRK1_{tki}_{mutation}_apo_{j}_forward.npy'\n",
    "                reverse_apo_path = f'/data/chodera/glassw/kinoml/NTRK/run_neq_WithTraj/NTRK1/{mutation}/NTRK1_{tki}_{mutation}_apo_{j}_reverse.npy'\n",
    "\n",
    "                if os.path.exists(forward_complex_path):\n",
    "                    with open(forward_complex_path, 'rb') as f:\n",
    "                        forward_complex_arrays.append(np.load(f))\n",
    "\n",
    "                if os.path.exists(reverse_complex_path):\n",
    "                    with open(reverse_complex_path, 'rb') as f:\n",
    "                        reverse_complex_arrays.append(np.load(f))\n",
    "\n",
    "                if os.path.exists(forward_apo_path):\n",
    "                    with open(forward_apo_path, 'rb') as f:\n",
    "                        forward_apo_arrays.append(np.load(f))\n",
    "\n",
    "                if os.path.exists(reverse_apo_path):\n",
    "                    with open(reverse_apo_path, 'rb') as f:\n",
    "                        reverse_apo_arrays.append(np.load(f))\n",
    "\n",
    "            if forward_complex_arrays and reverse_complex_arrays and forward_apo_arrays and reverse_apo_arrays:\n",
    "\n",
    "                forward_complex_combined = np.concatenate(forward_complex_arrays)\n",
    "                forward_complex_accumulated = np.array([cycle[-1] - cycle[0] for cycle in forward_complex_combined]) # compute this separately bc the last value of the subsampled array is diff than the actual last sample\n",
    "                forward_complex_combined = np.array([cycle for cycle in forward_complex_combined])\n",
    "                print(forward_complex_combined.shape)\n",
    "\n",
    "                reverse_complex_combined = np.concatenate(reverse_complex_arrays)\n",
    "                reverse_complex_accumulated = np.array([cycle[-1] - cycle[0] for cycle in reverse_complex_combined])\n",
    "                reverse_complex_combined = np.array([cycle for cycle in reverse_complex_combined])\n",
    "\n",
    "                forward_apo_combined = np.concatenate(forward_apo_arrays)\n",
    "                forward_apo_accumulated = np.array([cycle[-1] - cycle[0] for cycle in forward_apo_combined])\n",
    "                forward_apo_combined = np.array([cycle for cycle in forward_apo_combined])\n",
    "                print(forward_apo_combined.shape)\n",
    "\n",
    "                reverse_apo_combined = np.concatenate(reverse_apo_arrays)\n",
    "                reverse_apo_accumulated = np.array([cycle[-1] - cycle[0] for cycle in reverse_apo_combined])\n",
    "                reverse_apo_combined = np.array([cycle for cycle in reverse_apo_combined])\n",
    "\n",
    "\n",
    "                # Analyse\n",
    "\n",
    "                ## complex\n",
    "                forward_complex_work_offset, reverse_complex_work_offset = subtract_offset(forward_complex_combined,\n",
    "                                                                                        reverse_complex_combined)\n",
    "\n",
    "                complex_dg, complex_ddg = analyse(forward_complex_accumulated,\n",
    "                                                reverse_complex_accumulated)\n",
    "\n",
    "                ## apo\n",
    "                forward_apo_work_offset, reverse_apo_work_offset = subtract_offset(forward_apo_combined,\n",
    "                                                                                reverse_apo_combined)\n",
    "\n",
    "                apo_dg, apo_ddg = analyse(forward_apo_accumulated, reverse_apo_accumulated)\n",
    "\n",
    "                ## make the output directories\n",
    "                if not os.path.exists(f'/lila/home/glassw/GITHUB/study-ntrk-resistance/notebooks/perses/perses_analysis_output/{ntrk}/{tki}'):\n",
    "                    os.makedirs(f'/lila/home/glassw/GITHUB/study-ntrk-resistance/notebooks/perses/perses_analysis_output/{ntrk}/{tki}')\n",
    "\n",
    "                ## plot the work trajectories and distibutions\n",
    "                complex_plot = plot_works(forward_complex_work_offset,\n",
    "                                        reverse_complex_work_offset,\n",
    "                                        complex_dg,\n",
    "                                        complex_ddg,\n",
    "                                        phase='complex',\n",
    "                                        mutation=mutation,\n",
    "                                        title=f'{ntrk.upper()}-{tki} {mutation}',\n",
    "                                        save=True,\n",
    "                                        output_dir=f'/lila/home/glassw/GITHUB/study-ntrk-resistance/notebooks/perses/perses_analysis_output/{ntrk}/{tki}')\n",
    "\n",
    "                apo_plot = plot_works(forward_apo_work_offset,\n",
    "                                    reverse_apo_work_offset,\n",
    "                                    apo_dg,\n",
    "                                    apo_ddg,\n",
    "                                    phase='apo',\n",
    "                                    mutation=mutation,\n",
    "                                    title=f'{ntrk.upper()}-{tki} {mutation}',\n",
    "                                    save=True,\n",
    "                                    output_dir=f'/lila/home/glassw/GITHUB/study-ntrk-resistance/notebooks/perses/perses_analysis_output/{ntrk}/{tki}')\n",
    "\n",
    "                ## Get binding dg and ddg\n",
    "                binding_dg = complex_dg - apo_dg\n",
    "                binding_ddg = (apo_ddg**2 + complex_ddg**2)**0.5\n",
    "                sim_df_dasatinib[mutation] = [binding_dg, binding_ddg]\n",
    "                print(f\"--> complex_dg: {complex_dg}\")\n",
    "                print(f\"--> apo dg: {apo_dg}\")\n",
    "\n",
    "            else:\n",
    "                print(f\"--> dir {mutation} has at least one phase without data\" )"
   ]
  },
  {
   "cell_type": "code",
   "execution_count": null,
   "metadata": {},
   "outputs": [],
   "source": []
  }
 ]
}