{
 "cells": [
  {
   "cell_type": "markdown",
   "metadata": {},
   "source": [
    "# PyMol Mutation Visualization\n",
    "\n",
    "This notebooks can be used to visualize mutation statistics from cBioPortal in PyMol. First mutation statistics will analyzed. Then a text file will be generated whose content can be used in PyMol."
   ]
  },
  {
   "cell_type": "code",
   "execution_count": 1,
   "metadata": {},
   "outputs": [],
   "source": [
    "import pandas as pd"
   ]
  },
  {
   "cell_type": "code",
   "execution_count": 1,
   "metadata": {},
   "outputs": [],
   "source": [
    "ntrks_data = {\n",
    "    \"ntrk1\": {\n",
    "        \"input_path\": \"../../data/cbioportal_data.tsv\",\n",
    "        \"output_path\": \"../../data/NTRK1_pymol_commands\",\n",
    "        \"start\": 510,\n",
    "        \"end\": 781},\n",
    "    # \"ntrk2\": {\n",
    "    #     \"input_path\": \"../../data/NTRK2_lollipop.tsv\",\n",
    "    #     \"output_path\": \"../../data/NTRK2_pymol_commands\",\n",
    "    #     \"start\": 538,\n",
    "    #     \"end\": 807},\n",
    "    # \"ntrk3\": {\n",
    "    #     \"input_path\": \"../../data/NTRK3_lollipop.tsv\",\n",
    "    #     \"output_path\": \"../../data/NTRK3_pymol_commands\",\n",
    "    #     \"start\": 538,\n",
    "    #     \"end\": 839}\n",
    "}"
   ]
  },
  {
   "cell_type": "code",
   "execution_count": 3,
   "metadata": {},
   "outputs": [
    {
     "output_type": "execute_result",
     "data": {
      "text/plain": [
       "                                     Study of Origin        Sample ID  \\\n",
       "0          Thyroid Carcinoma (TCGA, PanCancer Atlas)  TCGA-EL-A3D4-01   \n",
       "1          Thyroid Carcinoma (TCGA, PanCancer Atlas)  TCGA-ET-A40S-01   \n",
       "2                    Sarcoma (TCGA, PanCancer Atlas)  TCGA-DX-A3UA-01   \n",
       "3  Bladder Urothelial Carcinoma (TCGA, PanCancer ...  TCGA-FD-A6TI-01   \n",
       "4    Skin Cutaneous Melanoma (TCGA, PanCancer Atlas)  TCGA-D3-A8GE-06   \n",
       "\n",
       "   Cancer Type          Cancer Type Detailed Protein Change  \\\n",
       "0          NaN      Papillary Thyroid Cancer     TPM3-NTRK1   \n",
       "1          NaN      Papillary Thyroid Cancer   SQSTM1-NTRK1   \n",
       "2          NaN                Leiomyosarcoma     TPM3-NTRK1   \n",
       "3          NaN  Bladder Urothelial Carcinoma     TPM3-NTRK1   \n",
       "4          NaN            Cutaneous Melanoma     LMNA-NTRK1   \n",
       "\n",
       "                                          Annotation  \\\n",
       "0  OncoKB: Likely Oncogenic, level_1;CIViC: Predi...   \n",
       "1  OncoKB: Likely Oncogenic, level_1;CIViC: Predi...   \n",
       "2  OncoKB: Likely Oncogenic, level_1;CIViC: Predi...   \n",
       "3  OncoKB: Likely Oncogenic, level_1;CIViC: Predi...   \n",
       "4  OncoKB: Oncogenic, level_1;CIViC: Diagnostic: ...   \n",
       "\n",
       "                              Functional Impact Mutation Type Variant Type  \\\n",
       "0  MutationAssessor: NA;SIFT: NA;Polyphen-2: NA        fusion       FUSION   \n",
       "1  MutationAssessor: NA;SIFT: NA;Polyphen-2: NA        fusion       FUSION   \n",
       "2  MutationAssessor: NA;SIFT: NA;Polyphen-2: NA        fusion       FUSION   \n",
       "3  MutationAssessor: NA;SIFT: NA;Polyphen-2: NA        fusion       FUSION   \n",
       "4  MutationAssessor: NA;SIFT: NA;Polyphen-2: NA        fusion       FUSION   \n",
       "\n",
       "       Copy #  ...  Pathology Cancer Maximum Dimension (cm)  \\\n",
       "0     diploid  ...                                      NaN   \n",
       "1  shallowdel  ...                                      NaN   \n",
       "2     diploid  ...                                      NaN   \n",
       "3        gain  ...                                      NaN   \n",
       "4     deepdel  ...                                      NaN   \n",
       "\n",
       "  Disease Surgical Margin Status CIS Distant Recurrence  \\\n",
       "0                            NaN NaN                NaN   \n",
       "1                            NaN NaN                NaN   \n",
       "2                            NaN NaN                NaN   \n",
       "3                            NaN NaN                NaN   \n",
       "4                            NaN NaN                NaN   \n",
       "\n",
       "   Time to distant recurrence  Time to local recurrence status  \\\n",
       "0                         NaN                              NaN   \n",
       "1                         NaN                              NaN   \n",
       "2                         NaN                              NaN   \n",
       "3                         NaN                              NaN   \n",
       "4                         NaN                              NaN   \n",
       "\n",
       "   Urothelial Primary Year of Surgery Event Type  \\\n",
       "0                 NaN             NaN        NaN   \n",
       "1                 NaN             NaN        NaN   \n",
       "2                 NaN             NaN        NaN   \n",
       "3                 NaN             NaN        NaN   \n",
       "4                 NaN             NaN        NaN   \n",
       "\n",
       "  Histology Classification in Primary Tumor  \n",
       "0                                       NaN  \n",
       "1                                       NaN  \n",
       "2                                       NaN  \n",
       "3                                       NaN  \n",
       "4                                       NaN  \n",
       "\n",
       "[5 rows x 1513 columns]"
      ],
      "text/html": "<div>\n<style scoped>\n    .dataframe tbody tr th:only-of-type {\n        vertical-align: middle;\n    }\n\n    .dataframe tbody tr th {\n        vertical-align: top;\n    }\n\n    .dataframe thead th {\n        text-align: right;\n    }\n</style>\n<table border=\"1\" class=\"dataframe\">\n  <thead>\n    <tr style=\"text-align: right;\">\n      <th></th>\n      <th>Study of Origin</th>\n      <th>Sample ID</th>\n      <th>Cancer Type</th>\n      <th>Cancer Type Detailed</th>\n      <th>Protein Change</th>\n      <th>Annotation</th>\n      <th>Functional Impact</th>\n      <th>Mutation Type</th>\n      <th>Variant Type</th>\n      <th>Copy #</th>\n      <th>...</th>\n      <th>Pathology Cancer Maximum Dimension (cm)</th>\n      <th>Disease Surgical Margin Status</th>\n      <th>CIS</th>\n      <th>Distant Recurrence</th>\n      <th>Time to distant recurrence</th>\n      <th>Time to local recurrence status</th>\n      <th>Urothelial Primary</th>\n      <th>Year of Surgery</th>\n      <th>Event Type</th>\n      <th>Histology Classification in Primary Tumor</th>\n    </tr>\n  </thead>\n  <tbody>\n    <tr>\n      <th>0</th>\n      <td>Thyroid Carcinoma (TCGA, PanCancer Atlas)</td>\n      <td>TCGA-EL-A3D4-01</td>\n      <td>NaN</td>\n      <td>Papillary Thyroid Cancer</td>\n      <td>TPM3-NTRK1</td>\n      <td>OncoKB: Likely Oncogenic, level_1;CIViC: Predi...</td>\n      <td>MutationAssessor: NA;SIFT: NA;Polyphen-2: NA</td>\n      <td>fusion</td>\n      <td>FUSION</td>\n      <td>diploid</td>\n      <td>...</td>\n      <td>NaN</td>\n      <td>NaN</td>\n      <td>NaN</td>\n      <td>NaN</td>\n      <td>NaN</td>\n      <td>NaN</td>\n      <td>NaN</td>\n      <td>NaN</td>\n      <td>NaN</td>\n      <td>NaN</td>\n    </tr>\n    <tr>\n      <th>1</th>\n      <td>Thyroid Carcinoma (TCGA, PanCancer Atlas)</td>\n      <td>TCGA-ET-A40S-01</td>\n      <td>NaN</td>\n      <td>Papillary Thyroid Cancer</td>\n      <td>SQSTM1-NTRK1</td>\n      <td>OncoKB: Likely Oncogenic, level_1;CIViC: Predi...</td>\n      <td>MutationAssessor: NA;SIFT: NA;Polyphen-2: NA</td>\n      <td>fusion</td>\n      <td>FUSION</td>\n      <td>shallowdel</td>\n      <td>...</td>\n      <td>NaN</td>\n      <td>NaN</td>\n      <td>NaN</td>\n      <td>NaN</td>\n      <td>NaN</td>\n      <td>NaN</td>\n      <td>NaN</td>\n      <td>NaN</td>\n      <td>NaN</td>\n      <td>NaN</td>\n    </tr>\n    <tr>\n      <th>2</th>\n      <td>Sarcoma (TCGA, PanCancer Atlas)</td>\n      <td>TCGA-DX-A3UA-01</td>\n      <td>NaN</td>\n      <td>Leiomyosarcoma</td>\n      <td>TPM3-NTRK1</td>\n      <td>OncoKB: Likely Oncogenic, level_1;CIViC: Predi...</td>\n      <td>MutationAssessor: NA;SIFT: NA;Polyphen-2: NA</td>\n      <td>fusion</td>\n      <td>FUSION</td>\n      <td>diploid</td>\n      <td>...</td>\n      <td>NaN</td>\n      <td>NaN</td>\n      <td>NaN</td>\n      <td>NaN</td>\n      <td>NaN</td>\n      <td>NaN</td>\n      <td>NaN</td>\n      <td>NaN</td>\n      <td>NaN</td>\n      <td>NaN</td>\n    </tr>\n    <tr>\n      <th>3</th>\n      <td>Bladder Urothelial Carcinoma (TCGA, PanCancer ...</td>\n      <td>TCGA-FD-A6TI-01</td>\n      <td>NaN</td>\n      <td>Bladder Urothelial Carcinoma</td>\n      <td>TPM3-NTRK1</td>\n      <td>OncoKB: Likely Oncogenic, level_1;CIViC: Predi...</td>\n      <td>MutationAssessor: NA;SIFT: NA;Polyphen-2: NA</td>\n      <td>fusion</td>\n      <td>FUSION</td>\n      <td>gain</td>\n      <td>...</td>\n      <td>NaN</td>\n      <td>NaN</td>\n      <td>NaN</td>\n      <td>NaN</td>\n      <td>NaN</td>\n      <td>NaN</td>\n      <td>NaN</td>\n      <td>NaN</td>\n      <td>NaN</td>\n      <td>NaN</td>\n    </tr>\n    <tr>\n      <th>4</th>\n      <td>Skin Cutaneous Melanoma (TCGA, PanCancer Atlas)</td>\n      <td>TCGA-D3-A8GE-06</td>\n      <td>NaN</td>\n      <td>Cutaneous Melanoma</td>\n      <td>LMNA-NTRK1</td>\n      <td>OncoKB: Oncogenic, level_1;CIViC: Diagnostic: ...</td>\n      <td>MutationAssessor: NA;SIFT: NA;Polyphen-2: NA</td>\n      <td>fusion</td>\n      <td>FUSION</td>\n      <td>deepdel</td>\n      <td>...</td>\n      <td>NaN</td>\n      <td>NaN</td>\n      <td>NaN</td>\n      <td>NaN</td>\n      <td>NaN</td>\n      <td>NaN</td>\n      <td>NaN</td>\n      <td>NaN</td>\n      <td>NaN</td>\n      <td>NaN</td>\n    </tr>\n  </tbody>\n</table>\n<p>5 rows × 1513 columns</p>\n</div>"
     },
     "metadata": {},
     "execution_count": 3
    }
   ],
   "source": [
    "import pandas as pd\n",
    "mutations = pd.read_csv(ntrks_data[\"ntrk1\"][\"input_path\"], sep=\"\\t\")\n",
    "mutations.head()"
   ]
  },
  {
   "cell_type": "code",
   "execution_count": 4,
   "metadata": {},
   "outputs": [
    {
     "output_type": "stream",
     "name": "stdout",
     "text": [
      "['G595R', 'G595R', 'G595E', 'G595W', 'G595W']\nNumber of missense mutations: 616\n"
     ]
    }
   ],
   "source": [
    "missense_mutations = mutations[mutations[\"Mutation Type\"] == \"Missense_Mutation\"][\"Protein Change\"].to_list()\n",
    "print(missense_mutations[:5])\n",
    "print(f\"Number of missense mutations: {len(missense_mutations)}\")"
   ]
  },
  {
   "cell_type": "code",
   "execution_count": 5,
   "metadata": {},
   "outputs": [],
   "source": [
    "def get_missense_mutations_dict(missense_mutations, start, end):\n",
    "    missense_mutations_dict = {}\n",
    "    for mutation in missense_mutations:\n",
    "        try:\n",
    "            resid = int(mutation[1:-1])\n",
    "        except ValueError as e:\n",
    "            print(e)\n",
    "            continue\n",
    "        residue_new = mutation[-1]\n",
    "        if start <= resid <= end:\n",
    "            if resid not in missense_mutations_dict.keys():\n",
    "                missense_mutations_dict[resid] = {\"count\": 1, \"amino_acids\": set(residue_new)}\n",
    "            else:\n",
    "                missense_mutations_dict[resid][\"count\"] += 1\n",
    "                missense_mutations_dict[resid][\"amino_acids\"].add(residue_new)\n",
    "    return missense_mutations_dict"
   ]
  },
  {
   "cell_type": "code",
   "execution_count": 285,
   "metadata": {},
   "outputs": [],
   "source": [
    "def get_missense_mutations_dictv2(missense_mutations, start, end):\n",
    "    missense_mutations_dict = {}\n",
    "    for mutation in missense_mutations:\n",
    "        \n",
    "        try:\n",
    "            resid = int(mutation[1:-1])\n",
    "            residue_new = mutation[-1]\n",
    "        except ValueError as e:\n",
    "            print(e)\n",
    "            continue\n",
    "        \n",
    "        if start <= resid <= end:\n",
    "\n",
    "            if resid not in missense_mutations_dict.keys():\n",
    "\n",
    "                missense_mutations_dict[resid] = {\"count\": 1, \"amino_acids\": {}}\n",
    "            \n",
    "            else:\n",
    "                missense_mutations_dict[resid][\"count\"] += 1\n",
    "            \n",
    "            if resid in missense_mutations_dict.keys() and residue_new not in missense_mutations_dict[resid][\"amino_acids\"].keys():\n",
    "\n",
    "                missense_mutations_dict[resid][\"amino_acids\"][residue_new] = 1\n",
    "\n",
    "            else: \n",
    "                missense_mutations_dict[resid][\"amino_acids\"][residue_new] += 1\n",
    "    \n",
    "    return missense_mutations_dict"
   ]
  },
  {
   "cell_type": "code",
   "execution_count": 224,
   "metadata": {},
   "outputs": [],
   "source": [
    "def get_sphere_scale(number):\n",
    "    min_sphere_scale = 0.5\n",
    "    max_sphere_scale = 1.5\n",
    "    sphere_scale = min_sphere_scale + (number / 10)\n",
    "    if sphere_scale > max_sphere_scale:\n",
    "        return max_sphere_scale\n",
    "    else:\n",
    "        return sphere_scale"
   ]
  },
  {
   "cell_type": "code",
   "execution_count": 7,
   "metadata": {},
   "outputs": [],
   "source": [
    "def write_pymol_visualization(output_path, missense_mutations_dict):\n",
    "    with open(output_path, \"w\") as wf:\n",
    "        for resid, data in missense_mutations_dict.items():\n",
    "            wf.write(f\"create {resid}, resid {resid} and name CA\\n\")\n",
    "            wf.write(f\"show_as sphere, {resid}\\n\")\n",
    "            wf.write(f\"set sphere_scale, {get_sphere_scale(data['count'])}, {resid}\\n\")\n",
    "            wf.write(f\"color 0x9e000d, {resid}\\n\")"
   ]
  },
  {
   "cell_type": "code",
   "execution_count": 205,
   "metadata": {},
   "outputs": [],
   "source": [
    "# for ntrk, data in ntrks_data.items():\n",
    "#     print(f\"Analyzing mutations for {ntrk} ...\")\n",
    "#     mutations = pd.read_csv(data[\"input_path\"], sep=\"\\t\")\n",
    "#     missense_mutations = mutations[mutations[\"Mutation Type\"] == \"Missense_Mutation\"][\"Protein Change\"].to_list()\n",
    "#     print(f\"Number of missense mutations: {len(missense_mutations)}\")\n",
    "#     missense_mutations_dict = get_missense_mutations_dict(missense_mutations, data[\"start\"], data[\"end\"])\n",
    "#     print(f\"Number of mutated residues in kinase domain: {len(missense_mutations_dict)}\")\n",
    "#     print(f\"Number of unique mutations in kinase domain: {sum([len(value['amino_acids']) for value in missense_mutations_dict.values()])}\")\n",
    "#     print(f\"Total number of observed mutations: {sum([value['count'] for value in missense_mutations_dict.values()])}\")\n",
    "#     print(\"Writing pymol visulaization script ...\")\n",
    "#     write_pymol_visualization(data[\"output_path\"], missense_mutations_dict)"
   ]
  },
  {
   "cell_type": "code",
   "execution_count": 286,
   "metadata": {
    "tags": []
   },
   "outputs": [
    {
     "output_type": "stream",
     "name": "stdout",
     "text": [
      "Analyzing mutations for ntrk1 ...\n",
      "Number of missense mutations: 616\n",
      "invalid literal for int() with base 10: '216_V217delinsH'\n",
      "invalid literal for int() with base 10: '216_V217delinsH'\n",
      "invalid literal for int() with base 10: '216_V217delinsH'\n",
      "Number of mutated residues in kinase domain: 112\n",
      "Number of unique mutations in kinase domain: 154\n",
      "Total number of observed mutations: 219\n",
      "Writing pymol visulaization script ...\n"
     ]
    }
   ],
   "source": [
    "for ntrk, data in ntrks_data.items():\n",
    "    print(f\"Analyzing mutations for {ntrk} ...\")\n",
    "    \n",
    "    mutations = pd.read_csv(data[\"input_path\"], sep=\"\\t\")\n",
    "    missense_mutations = mutations[mutations[\"Mutation Type\"] == \"Missense_Mutation\"][\"Protein Change\"].to_list()\n",
    "    \n",
    "    print(f\"Number of missense mutations: {len(missense_mutations)}\")\n",
    "    missense_mutations_dict = get_missense_mutations_dictv2(missense_mutations, data[\"start\"], data[\"end\"])\n",
    "    \n",
    "    print(f\"Number of mutated residues in kinase domain: {len(missense_mutations_dict)}\")\n",
    "    print(f\"Number of unique mutations in kinase domain: {sum([len(value['amino_acids']) for value in missense_mutations_dict.values()])}\")\n",
    "    print(f\"Total number of observed mutations: {sum([value['count'] for value in missense_mutations_dict.values()])}\")\n",
    "    print(\"Writing pymol visulaization script ...\")\n",
    "    \n",
    "    # write_pymol_visualization(data[\"output_path\"], missense_mutations_dict)"
   ]
  },
  {
   "cell_type": "code",
   "execution_count": 292,
   "metadata": {},
   "outputs": [
    {
     "output_type": "execute_result",
     "data": {
      "text/plain": [
       "{595: {'count': 5, 'amino_acids': {'R': 2, 'E': 1, 'W': 2}},\n",
       " 776: {'count': 1, 'amino_acids': {'E': 1}},\n",
       " 712: {'count': 2, 'amino_acids': {'I': 1, 'R': 1}},\n",
       " 686: {'count': 8, 'amino_acids': {'C': 4, 'H': 3, 'G': 1}},\n",
       " 710: {'count': 1, 'amino_acids': {'L': 1}},\n",
       " 598: {'count': 1, 'amino_acids': {'S': 1}},\n",
       " 692: {'count': 7, 'amino_acids': {'C': 4, 'H': 3}},\n",
       " 537: {'count': 1, 'amino_acids': {'E': 1}},\n",
       " 649: {'count': 6, 'amino_acids': {'W': 2, 'Q': 3, 'L': 1}},\n",
       " 516: {'count': 1, 'amino_acids': {'P': 1}},\n",
       " 627: {'count': 1, 'amino_acids': {'R': 1}},\n",
       " 579: {'count': 1, 'amino_acids': {'S': 1}},\n",
       " 591: {'count': 1, 'amino_acids': {'N': 1}},\n",
       " 654: {'count': 5, 'amino_acids': {'C': 2, 'H': 3}},\n",
       " 578: {'count': 2, 'amino_acids': {'I': 2}},\n",
       " 744: {'count': 2, 'amino_acids': {'H': 2}},\n",
       " 661: {'count': 4, 'amino_acids': {'R': 1, 'E': 2, 'K': 1}},\n",
       " 647: {'count': 1, 'amino_acids': {'L': 1}},\n",
       " 599: {'count': 5, 'amino_acids': {'H': 2, 'C': 3}},\n",
       " 612: {'count': 2, 'amino_acids': {'V': 1, 'T': 1}},\n",
       " 574: {'count': 1, 'amino_acids': {'H': 1}},\n",
       " 604: {'count': 5, 'amino_acids': {'Y': 5}},\n",
       " 613: {'count': 6, 'amino_acids': {'V': 6}},\n",
       " 738: {'count': 3, 'amino_acids': {'N': 3}},\n",
       " 780: {'count': 4, 'amino_acids': {'G': 1, 'W': 2, 'L': 1}},\n",
       " 644: {'count': 2, 'amino_acids': {'M': 2}},\n",
       " 583: {'count': 9, 'amino_acids': {'L': 2, 'H': 4, 'C': 2, 'P': 1}},\n",
       " 779: {'count': 1, 'amino_acids': {'G': 1}},\n",
       " 761: {'count': 4, 'amino_acids': {'Q': 2, 'W': 2}},\n",
       " 593: {'count': 2, 'amino_acids': {'W': 2}},\n",
       " 682: {'count': 4, 'amino_acids': {'C': 2, 'H': 1, 'L': 1}},\n",
       " 707: {'count': 2, 'amino_acids': {'K': 2}},\n",
       " 658: {'count': 2, 'amino_acids': {'L': 1, 'A': 1}},\n",
       " 748: {'count': 2, 'amino_acids': {'Q': 1, 'W': 1}},\n",
       " 584: {'count': 1, 'amino_acids': {'L': 1}},\n",
       " 526: {'count': 4, 'amino_acids': {'F': 2, 'H': 1, 'R': 1}},\n",
       " 729: {'count': 1, 'amino_acids': {'H': 1}},\n",
       " 659: {'count': 2, 'amino_acids': {'S': 1, 'C': 1}},\n",
       " 679: {'count': 2, 'amino_acids': {'Y': 1, 'N': 1}},\n",
       " 527: {'count': 1, 'amino_acids': {'V': 1}},\n",
       " 715: {'count': 1, 'amino_acids': {'M': 1}},\n",
       " 643: {'count': 4, 'amino_acids': {'S': 1, 'D': 2, 'C': 1}},\n",
       " 668: {'count': 2, 'amino_acids': {'N': 2}},\n",
       " 703: {'count': 1, 'amino_acids': {'T': 1}},\n",
       " 553: {'count': 1, 'amino_acids': {'D': 1}},\n",
       " 718: {'count': 2, 'amino_acids': {'C': 1, 'L': 1}},\n",
       " 685: {'count': 1, 'amino_acids': {'D': 1}},\n",
       " 754: {'count': 1, 'amino_acids': {'T': 1}},\n",
       " 648: {'count': 1, 'amino_acids': {'N': 1}},\n",
       " 512: {'count': 1, 'amino_acids': {'F': 1}},\n",
       " 642: {'count': 2, 'amino_acids': {'V': 1, 'E': 1}},\n",
       " 743: {'count': 2, 'amino_acids': {'E': 1, 'R': 1}},\n",
       " 511: {'count': 2, 'amino_acids': {'M': 2}},\n",
       " 539: {'count': 1, 'amino_acids': {'I': 1}},\n",
       " 561: {'count': 1, 'amino_acids': {'V': 1}},\n",
       " 518: {'count': 1, 'amino_acids': {'K': 1}},\n",
       " 618: {'count': 1, 'amino_acids': {'S': 1}},\n",
       " 725: {'count': 2, 'amino_acids': {'E': 1, 'T': 1}},\n",
       " 702: {'count': 3, 'amino_acids': {'L': 1, 'C': 2}},\n",
       " 697: {'count': 3, 'amino_acids': {'D': 1, 'Q': 1, 'K': 1}},\n",
       " 519: {'count': 2, 'amino_acids': {'D': 1, 'S': 1}},\n",
       " 656: {'count': 2, 'amino_acids': {'Y': 2}},\n",
       " 522: {'count': 3, 'amino_acids': {'E': 3}},\n",
       " 755: {'count': 1, 'amino_acids': {'K': 1}},\n",
       " 515: {'count': 1, 'amino_acids': {'K': 1}},\n",
       " 550: {'count': 2, 'amino_acids': {'Y': 1, 'F': 1}},\n",
       " 640: {'count': 1, 'amino_acids': {'C': 1}},\n",
       " 603: {'count': 1, 'amino_acids': {'P': 1}},\n",
       " 671: {'count': 2, 'amino_acids': {'T': 1, 'L': 1}},\n",
       " 587: {'count': 2, 'amino_acids': {'I': 2}},\n",
       " 605: {'count': 1, 'amino_acids': {'E': 1}},\n",
       " 619: {'count': 2, 'amino_acids': {'Q': 1, 'L': 1}},\n",
       " 636: {'count': 2, 'amino_acids': {'E': 1, 'V': 1}},\n",
       " 695: {'count': 9, 'amino_acids': {'Q': 9}},\n",
       " 767: {'count': 1, 'amino_acids': {'K': 1}},\n",
       " 771: {'count': 1, 'amino_acids': {'C': 1}},\n",
       " 616: {'count': 1, 'amino_acids': {'N': 1}},\n",
       " 660: {'count': 1, 'amino_acids': {'L': 1}},\n",
       " 709: {'count': 1, 'amino_acids': {'N': 1}},\n",
       " 517: {'count': 2, 'amino_acids': {'R': 1, 'V': 1}},\n",
       " 614: {'count': 1, 'amino_acids': {'V': 1}},\n",
       " 734: {'count': 1, 'amino_acids': {'M': 1}},\n",
       " 673: {'count': 1, 'amino_acids': {'G': 1}},\n",
       " 543: {'count': 1, 'amino_acids': {'G': 1}},\n",
       " 773: {'count': 1, 'amino_acids': {'N': 1}},\n",
       " 547: {'count': 1, 'amino_acids': {'T': 1}},\n",
       " 641: {'count': 1, 'amino_acids': {'M': 1}},\n",
       " 530: {'count': 1, 'amino_acids': {'Y': 1}},\n",
       " 690: {'count': 1, 'amino_acids': {'L': 1}},\n",
       " 524: {'count': 1, 'amino_acids': {'I': 1}},\n",
       " 650: {'count': 1, 'amino_acids': {'N': 1}},\n",
       " 719: {'count': 1, 'amino_acids': {'K': 1}},\n",
       " 675: {'count': 1, 'amino_acids': {'M': 1}},\n",
       " 554: {'count': 1, 'amino_acids': {'W': 1}},\n",
       " 620: {'count': 1, 'amino_acids': {'D': 1}},\n",
       " 735: {'count': 1, 'amino_acids': {'D': 1}},\n",
       " 727: {'count': 1, 'amino_acids': {'H': 1}},\n",
       " 606: {'count': 1, 'amino_acids': {'H': 1}},\n",
       " 672: {'count': 1, 'amino_acids': {'I': 1}},\n",
       " 775: {'count': 1, 'amino_acids': {'E': 1}},\n",
       " 701: {'count': 1, 'amino_acids': {'H': 1}},\n",
       " 646: {'count': 1, 'amino_acids': {'V': 1}},\n",
       " 552: {'count': 1, 'amino_acids': {'R': 1}},\n",
       " 766: {'count': 1, 'amino_acids': {'L': 1}},\n",
       " 557: {'count': 1, 'amino_acids': {'Y': 1}},\n",
       " 541: {'count': 1, 'amino_acids': {'M': 1}},\n",
       " 626: {'count': 1, 'amino_acids': {'K': 1}},\n",
       " 684: {'count': 1, 'amino_acids': {'A': 1}},\n",
       " 542: {'count': 1, 'amino_acids': {'T': 1}},\n",
       " 596: {'count': 1, 'amino_acids': {'N': 1}},\n",
       " 637: {'count': 2, 'amino_acids': {'E': 2}},\n",
       " 705: {'count': 1, 'amino_acids': {'I': 1}}}"
      ]
     },
     "metadata": {},
     "execution_count": 292
    }
   ],
   "source": [
    "missense_mutations_dict"
   ]
  },
  {
   "cell_type": "code",
   "execution_count": 34,
   "metadata": {},
   "outputs": [],
   "source": [
    "# missense_mutations_dict\n",
    "sorted_keys = sorted(missense_mutations_dict, key=lambda x: (missense_mutations_dict[x]['count']))"
   ]
  },
  {
   "cell_type": "code",
   "execution_count": 35,
   "metadata": {},
   "outputs": [
    {
     "output_type": "execute_result",
     "data": {
      "text/plain": [
       "[695, 643, 637, 511, 593, 626, 727, 641, 771, 539, 584, 710]"
      ]
     },
     "metadata": {},
     "execution_count": 35
    }
   ],
   "source": [
    "sorted_keys[::-10]"
   ]
  },
  {
   "cell_type": "code",
   "execution_count": 36,
   "metadata": {},
   "outputs": [
    {
     "output_type": "stream",
     "name": "stdout",
     "text": [
      "Residue 695 {'count': 9, 'amino_acids': {'Q'}}\nResidue 643 {'count': 4, 'amino_acids': {'D', 'S', 'C'}}\nResidue 637 {'count': 2, 'amino_acids': {'E'}}\nResidue 511 {'count': 2, 'amino_acids': {'M'}}\nResidue 593 {'count': 2, 'amino_acids': {'W'}}\nResidue 626 {'count': 1, 'amino_acids': {'K'}}\nResidue 727 {'count': 1, 'amino_acids': {'H'}}\nResidue 641 {'count': 1, 'amino_acids': {'M'}}\nResidue 771 {'count': 1, 'amino_acids': {'C'}}\nResidue 539 {'count': 1, 'amino_acids': {'I'}}\nResidue 584 {'count': 1, 'amino_acids': {'L'}}\nResidue 710 {'count': 1, 'amino_acids': {'L'}}\n"
     ]
    }
   ],
   "source": [
    "for residue in sorted_keys[::-10]:\n",
    "\n",
    "    print(f\"Residue {residue}\", missense_mutations_dict[residue])"
   ]
  },
  {
   "cell_type": "code",
   "execution_count": 39,
   "metadata": {},
   "outputs": [],
   "source": [
    "top_ten = {key: missense_mutations_dict[key] for key in sorted_keys[::-10]}\n",
    "write_pymol_visualization(data[\"output_path\"], top_ten)"
   ]
  },
  {
   "cell_type": "code",
   "execution_count": 40,
   "metadata": {},
   "outputs": [
    {
     "output_type": "execute_result",
     "data": {
      "text/plain": [
       "{695: {'count': 9, 'amino_acids': {'Q'}},\n",
       " 643: {'count': 4, 'amino_acids': {'C', 'D', 'S'}},\n",
       " 637: {'count': 2, 'amino_acids': {'E'}},\n",
       " 511: {'count': 2, 'amino_acids': {'M'}},\n",
       " 593: {'count': 2, 'amino_acids': {'W'}},\n",
       " 626: {'count': 1, 'amino_acids': {'K'}},\n",
       " 727: {'count': 1, 'amino_acids': {'H'}},\n",
       " 641: {'count': 1, 'amino_acids': {'M'}},\n",
       " 771: {'count': 1, 'amino_acids': {'C'}},\n",
       " 539: {'count': 1, 'amino_acids': {'I'}},\n",
       " 584: {'count': 1, 'amino_acids': {'L'}},\n",
       " 710: {'count': 1, 'amino_acids': {'L'}}}"
      ]
     },
     "metadata": {},
     "execution_count": 40
    }
   ],
   "source": [
    "top_ten"
   ]
  },
  {
   "source": [
    "We'll now use MDAnalysis to only count residues within X of the binding site. We'll define the binding site by KLIFS residues."
   ],
   "cell_type": "markdown",
   "metadata": {}
  },
  {
   "cell_type": "code",
   "execution_count": 182,
   "metadata": {},
   "outputs": [],
   "source": [
    "import MDAnalysis as mda\n",
    "import numpy as np\n",
    "\n",
    "def filter_mutations(pdb_file, mutations, cutoff):\n",
    "\n",
    "    klifs_residues = [\"514:526\", \"541:546\", \"556:568\", \"570:578\", \"586:603\", \"640:658\", \"666:671\", \"677\"]\n",
    "\n",
    "    u = mda.Universe(pdb_file)\n",
    "\n",
    "    missense_mutations_res_sel = \" \".join([str(key) for key in mutations.keys()])\n",
    "    klifs_res_sel = \"\".join([res_sel + \" \" for res_sel in klifs_residues])\n",
    "\n",
    "    klifs_sel = u.select_atoms(f\"resid {klifs_res_sel}\")\n",
    "    missense_mutations_sel = u.select_atoms(f\"resid {missense_mutations_res_sel}\")\n",
    "\n",
    "    missense_mutations_filter = missense_mutations_sel.select_atoms(f\"around {cutoff} resid {klifs_res_sel}\")\n",
    "\n",
    "    print(f\"{len(missense_mutations_sel.select_atoms('name CA').resids)} missense mutations\")\n",
    "\n",
    "    print(f\"{len(klifs_sel.select_atoms('name CA').resids)} klifs residues\")\n",
    "\n",
    "    print(f\"Filtered out {np.abs(len(klifs_sel.select_atoms('name CA').resids) - len(missense_mutations_sel.select_atoms('name CA').resids))} residues greater than 6 Angstroms from KLIFS residues\")\n",
    "\n",
    "    print(f\"Total of {len(missense_mutations_filter.select_atoms('name CA').resids)} within {cutoff} Angstroms of KLIFS residues\")\n",
    "\n",
    "    return [int(resid) for resid in missense_mutations_filter.select_atoms('name CA').resids], [int(resid) for resid in klifs_sel.select_atoms('name CA').resids]\n"
   ]
  },
  {
   "cell_type": "code",
   "execution_count": 183,
   "metadata": {},
   "outputs": [
    {
     "output_type": "stream",
     "name": "stdout",
     "text": [
      "112 missense mutations\n85 klifs residues\nFiltered out 27 residues greater than 6 Angstroms from KLIFS residues\nTotal of 19 within 5 Angstroms of KLIFS residues\n"
     ]
    }
   ],
   "source": [
    "pdb = \"../kinoml_modeling/data/kinoml_OEKLIFSKinaseHybridDockingFeaturizer_NTRK1_larotrectinib_complex.pdb\"\n",
    "\n",
    "filter, klifs_residues = filter_mutations(pdb_file=pdb, mutations=missense_mutations_dict, cutoff=5)"
   ]
  },
  {
   "cell_type": "code",
   "execution_count": 184,
   "metadata": {},
   "outputs": [],
   "source": [
    "filtered_missense = {key: missense_mutations_dict[key] for key in filter}"
   ]
  },
  {
   "cell_type": "code",
   "execution_count": 185,
   "metadata": {},
   "outputs": [],
   "source": [
    "filtered_missense_keys_sorted = sorted(filtered_missense, key=lambda x: (filtered_missense[x]['count']))"
   ]
  },
  {
   "cell_type": "code",
   "execution_count": 186,
   "metadata": {},
   "outputs": [
    {
     "output_type": "stream",
     "name": "stdout",
     "text": [
      "Residue 604 {'count': 5, 'amino_acids': {'Y'}}\nResidue 725 {'count': 2, 'amino_acids': {'T', 'E'}}\nResidue 679 {'count': 2, 'amino_acids': {'Y', 'N'}}\nResidue 659 {'count': 2, 'amino_acids': {'C', 'S'}}\nResidue 637 {'count': 2, 'amino_acids': {'E'}}\nResidue 636 {'count': 2, 'amino_acids': {'V', 'E'}}\nResidue 612 {'count': 2, 'amino_acids': {'V', 'T'}}\nResidue 705 {'count': 1, 'amino_acids': {'I'}}\nResidue 690 {'count': 1, 'amino_acids': {'L'}}\nResidue 672 {'count': 1, 'amino_acids': {'I'}}\n"
     ]
    }
   ],
   "source": [
    "final_filtered_missense_mutations = {}\n",
    "\n",
    "for residue in filtered_missense_keys_sorted[::-1][:10]:\n",
    "    try:\n",
    "        print(f\"Residue {residue}\", filtered_missense[residue])\n",
    "        final_filtered_missense_mutations[residue] = filtered_missense[residue]\n",
    "    except:\n",
    "        continue\n",
    "\n"
   ]
  },
  {
   "cell_type": "code",
   "execution_count": 165,
   "metadata": {},
   "outputs": [],
   "source": [
    "write_pymol_visualization(data[\"output_path\"], final_filtered_missense_mutations)"
   ]
  },
  {
   "source": [
    "Now we'll check if any mutations are in the KLIFS residues"
   ],
   "cell_type": "markdown",
   "metadata": {}
  },
  {
   "cell_type": "code",
   "execution_count": 288,
   "metadata": {},
   "outputs": [],
   "source": [
    "mutations_in_klifs = {}\n",
    "for key in klifs_residues:\n",
    "    try:\n",
    "        mutations_in_klifs[key] = missense_mutations_dict[key]\n",
    "    except:\n",
    "        continue"
   ]
  },
  {
   "cell_type": "code",
   "execution_count": 289,
   "metadata": {},
   "outputs": [],
   "source": [
    "mutations_in_klifs_keys_sorted = sorted(mutations_in_klifs, key=lambda x: (mutations_in_klifs[x]['count']))"
   ]
  },
  {
   "cell_type": "code",
   "execution_count": 290,
   "metadata": {},
   "outputs": [
    {
     "output_type": "stream",
     "name": "stdout",
     "text": [
      "Residue 649 {'count': 6, 'amino_acids': {'W': 2, 'Q': 3, 'L': 1}}\nResidue 654 {'count': 5, 'amino_acids': {'C': 2, 'H': 3}}\nResidue 599 {'count': 5, 'amino_acids': {'H': 2, 'C': 3}}\nResidue 595 {'count': 5, 'amino_acids': {'R': 2, 'E': 1, 'W': 2}}\nResidue 643 {'count': 4, 'amino_acids': {'S': 1, 'D': 2, 'C': 1}}\nResidue 526 {'count': 4, 'amino_acids': {'F': 2, 'H': 1, 'R': 1}}\nResidue 522 {'count': 3, 'amino_acids': {'E': 3}}\nResidue 671 {'count': 2, 'amino_acids': {'T': 1, 'L': 1}}\nResidue 668 {'count': 2, 'amino_acids': {'N': 2}}\nResidue 658 {'count': 2, 'amino_acids': {'L': 1, 'A': 1}}\n"
     ]
    }
   ],
   "source": [
    "final_filtered_missense_mutations_in_klifs = {}\n",
    "\n",
    "for residue in mutations_in_klifs_keys_sorted[::-1][:10]:\n",
    "    try:\n",
    "        print(f\"Residue {residue}\", mutations_in_klifs[residue])\n",
    "        final_filtered_missense_mutations_in_klifs[residue] = mutations_in_klifs[residue]\n",
    "    except:\n",
    "        continue"
   ]
  },
  {
   "cell_type": "code",
   "execution_count": 293,
   "metadata": {},
   "outputs": [
    {
     "output_type": "execute_result",
     "data": {
      "text/plain": [
       "{649: {'count': 6, 'amino_acids': {'W': 2, 'Q': 3, 'L': 1}},\n",
       " 654: {'count': 5, 'amino_acids': {'C': 2, 'H': 3}},\n",
       " 599: {'count': 5, 'amino_acids': {'H': 2, 'C': 3}},\n",
       " 595: {'count': 5, 'amino_acids': {'R': 2, 'E': 1, 'W': 2}},\n",
       " 643: {'count': 4, 'amino_acids': {'S': 1, 'D': 2, 'C': 1}},\n",
       " 526: {'count': 4, 'amino_acids': {'F': 2, 'H': 1, 'R': 1}},\n",
       " 522: {'count': 3, 'amino_acids': {'E': 3}},\n",
       " 671: {'count': 2, 'amino_acids': {'T': 1, 'L': 1}},\n",
       " 668: {'count': 2, 'amino_acids': {'N': 2}},\n",
       " 658: {'count': 2, 'amino_acids': {'L': 1, 'A': 1}}}"
      ]
     },
     "metadata": {},
     "execution_count": 293
    }
   ],
   "source": [
    "final_filtered_missense_mutations_in_klifs"
   ]
  },
  {
   "cell_type": "code",
   "execution_count": 195,
   "metadata": {},
   "outputs": [],
   "source": [
    "write_pymol_visualization(data[\"output_path\"], final_filtered_missense_mutations_in_klifs)"
   ]
  },
  {
   "cell_type": "code",
   "execution_count": 196,
   "metadata": {},
   "outputs": [
    {
     "output_type": "execute_result",
     "data": {
      "text/plain": [
       "{515: {'count': 1, 'amino_acids': {'K'}},\n",
       " 516: {'count': 1, 'amino_acids': {'P'}},\n",
       " 517: {'count': 2, 'amino_acids': {'R', 'V'}},\n",
       " 518: {'count': 1, 'amino_acids': {'K'}},\n",
       " 519: {'count': 2, 'amino_acids': {'D', 'S'}},\n",
       " 522: {'count': 3, 'amino_acids': {'E'}},\n",
       " 524: {'count': 1, 'amino_acids': {'I'}},\n",
       " 526: {'count': 4, 'amino_acids': {'F', 'H', 'R'}},\n",
       " 541: {'count': 1, 'amino_acids': {'M'}},\n",
       " 542: {'count': 1, 'amino_acids': {'T'}},\n",
       " 543: {'count': 1, 'amino_acids': {'G'}},\n",
       " 557: {'count': 1, 'amino_acids': {'Y'}},\n",
       " 561: {'count': 1, 'amino_acids': {'V'}},\n",
       " 574: {'count': 1, 'amino_acids': {'H'}},\n",
       " 578: {'count': 2, 'amino_acids': {'I'}},\n",
       " 587: {'count': 2, 'amino_acids': {'I'}},\n",
       " 591: {'count': 1, 'amino_acids': {'N'}},\n",
       " 593: {'count': 2, 'amino_acids': {'W'}},\n",
       " 595: {'count': 5, 'amino_acids': {'E', 'R', 'W'}},\n",
       " 596: {'count': 1, 'amino_acids': {'N'}},\n",
       " 598: {'count': 1, 'amino_acids': {'S'}},\n",
       " 599: {'count': 5, 'amino_acids': {'C', 'H'}},\n",
       " 603: {'count': 1, 'amino_acids': {'P'}},\n",
       " 640: {'count': 1, 'amino_acids': {'C'}},\n",
       " 641: {'count': 1, 'amino_acids': {'M'}},\n",
       " 642: {'count': 2, 'amino_acids': {'E', 'V'}},\n",
       " 643: {'count': 4, 'amino_acids': {'C', 'D', 'S'}},\n",
       " 644: {'count': 2, 'amino_acids': {'M'}},\n",
       " 646: {'count': 1, 'amino_acids': {'V'}},\n",
       " 647: {'count': 1, 'amino_acids': {'L'}},\n",
       " 648: {'count': 1, 'amino_acids': {'N'}},\n",
       " 649: {'count': 6, 'amino_acids': {'L', 'Q', 'W'}},\n",
       " 650: {'count': 1, 'amino_acids': {'N'}},\n",
       " 654: {'count': 5, 'amino_acids': {'C', 'H'}},\n",
       " 656: {'count': 2, 'amino_acids': {'Y'}},\n",
       " 658: {'count': 2, 'amino_acids': {'A', 'L'}},\n",
       " 668: {'count': 2, 'amino_acids': {'N'}},\n",
       " 671: {'count': 2, 'amino_acids': {'L', 'T'}}}"
      ]
     },
     "metadata": {},
     "execution_count": 196
    }
   ],
   "source": []
  },
  {
   "cell_type": "code",
   "execution_count": null,
   "metadata": {},
   "outputs": [],
   "source": [
    "mutations_in_klifs\n"
   ]
  }
 ],
 "metadata": {
  "kernelspec": {
   "name": "python3",
   "display_name": "Python 3.6.12 64-bit ('py36_mda': conda)"
  },
  "language_info": {
   "codemirror_mode": {
    "name": "ipython",
    "version": 3
   },
   "file_extension": ".py",
   "mimetype": "text/x-python",
   "name": "python",
   "nbconvert_exporter": "python",
   "pygments_lexer": "ipython3",
   "version": "3.6.12"
  },
  "interpreter": {
   "hash": "ba834013af4c5236afa65788704c9632366273dc87051ac3242a03908b21647e"
  }
 },
 "nbformat": 4,
 "nbformat_minor": 4
}